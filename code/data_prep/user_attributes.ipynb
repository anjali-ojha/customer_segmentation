{
 "cells": [
  {
   "cell_type": "code",
   "execution_count": 2,
   "outputs": [
    {
     "name": "stdout",
     "output_type": "stream",
     "text": [
      "+--------------------+--------------------+--------------------+--------------------+-------------+--------------------+-------+----------+------------+--------------------+-----------+------------+-----+-----+\n",
      "|             address|          attributes|         business_id|          categories|         city|               hours|is_open|  latitude|   longitude|                name|postal_code|review_count|stars|state|\n",
      "+--------------------+--------------------+--------------------+--------------------+-------------+--------------------+-------+----------+------------+--------------------+-----------+------------+-----+-----+\n",
      "|1616 Chapala St, ...|{ByAppointmentOnl...|Pns2l4eNsfO8kk83d...|[Doctors, Traditi...|Santa Barbara|                null|      0|34.4266787|-119.7111968|Abby Rappoport, L...|      93101|           7|  5.0|   CA|\n",
      "|87 Grasso Plaza S...|{BusinessAcceptsC...|mpf3x-BjTdTEA3yCZ...|[Shipping Centers...|       Affton|{Monday -> 0:0-0:...|      1| 38.551126|  -90.335695|       The UPS Store|      63123|          15|  3.0|   MO|\n",
      "|5255 E Broadway Blvd|{BikeParking -> T...|tUFrWirKiKi_TAnsV...|[Department Store...|       Tucson|{Monday -> 8:0-22...|      0| 32.223236| -110.880452|              Target|      85711|          22|  3.5|   AZ|\n",
      "|         935 Race St|{RestaurantsDeliv...|MTSW4McQd7CbVtyjq...|[Restaurants, Foo...| Philadelphia|{Monday -> 7:0-20...|      1|39.9555052| -75.1555641|  St Honore Pastries|      19107|          80|  4.0|   PA|\n",
      "+--------------------+--------------------+--------------------+--------------------+-------------+--------------------+-------+----------+------------+--------------------+-----------+------------+-----+-----+\n",
      "+-------------+---------------+---------------+----------------+--------------+---------------+---------------+---------------+-----------------+----------------+------------------+-----------------+-----+--------------------+----+-----+------+------------+------+--------------------+-------------------+\n",
      "|average_stars|compliment_cool|compliment_cute|compliment_funny|compliment_hot|compliment_list|compliment_more|compliment_note|compliment_photos|compliment_plain|compliment_profile|compliment_writer| cool|               elite|fans|funny|  name|review_count|useful|             user_id|      yelping_since|\n",
      "+-------------+---------------+---------------+----------------+--------------+---------------+---------------+---------------+-----------------+----------------+------------------+-----------------+-----+--------------------+----+-----+------+------------+------+--------------------+-------------------+\n",
      "|         3.91|            467|             56|             467|           250|             18|             65|            232|              180|             844|                55|              239| 5994|              [2007]| 267| 1259|Walker|         585|  7217|qVc8ODYU5SZjKXVBg...|2007-01-25 16:47:26|\n",
      "|         3.74|           3131|            157|            3131|          1145|            251|            264|           1847|             1946|            7054|               184|             1521|27281|[2009,2010,2011,2...|3138|13066|Daniel|        4333| 43091|j14WgRoU_-2ZE1aw1...|2009-01-25 04:35:42|\n",
      "|         3.32|            119|             17|             119|            89|              3|             13|             66|               18|              96|                10|               35| 1003|[2009,2010,2011,2...|  52| 1010| Steph|         665|  2086|2WnXYQFK0hXEoTxPt...|2008-07-25 10:41:00|\n",
      "+-------------+---------------+---------------+----------------+--------------+---------------+---------------+---------------+-----------------+----------------+------------------+-----------------+-----+--------------------+----+-----+------+------------+------+--------------------+-------------------+\n",
      "+--------------------+--------------------+\n",
      "|             user_id|             friends|\n",
      "+--------------------+--------------------+\n",
      "|qVc8ODYU5SZjKXVBg...|[NSCy54eWehBJyZdG...|\n",
      "|j14WgRoU_-2ZE1aw1...|[ueRPE0CX75ePGMqO...|\n",
      "|2WnXYQFK0hXEoTxPt...|[LuO3Bn4f3rlhyHIa...|\n",
      "|SZDeASXq7o05mMNLs...|[enx1vVPnfdNUdPho...|\n",
      "+--------------------+--------------------+\n",
      "+--------------------+--------------------+\n",
      "|         business_id|                date|\n",
      "+--------------------+--------------------+\n",
      "|---kPU91CF4Lq2-Wl...|[2020-03-13 21:10...|\n",
      "|--0iUa4sNDFiZFrAd...|[2010-09-13 21:43...|\n",
      "|--30_8IhuyMHbSOcN...|[2013-06-14 23:29...|\n",
      "|--7PUidqRWpRSpXeb...|[2011-02-15 17:12...|\n",
      "+--------------------+--------------------+\n",
      "+----------------------+----------------+-------------------+---------------------------------------------------------+----------------------+\n",
      "|business_id           |compliment_count|date               |text                                                     |user_id               |\n",
      "+----------------------+----------------+-------------------+---------------------------------------------------------+----------------------+\n",
      "|3uLgwr0qeCNMjKenHJwPGQ|0               |2012-05-18 02:17:21|Avengers time with the ladies.                           |AGNUgVwnZUey3gcPCJ76iw|\n",
      "|QoezRbYQncpRqyrLH6Iqjg|0               |2013-02-05 18:35:10|They have lots of good deserts and tasty cuban sandwiches|NBN4MgHP9D3cw--SnauTkA|\n",
      "|MYoRNLb5chwjQe3c_k37Gg|0               |2013-08-18 00:56:08|It's open even when you think it isn't                   |-copOvldyKh1qr-vzkDEvw|\n",
      "|hV-bABTK-glh5wj31ps_Jw|0               |2017-06-27 23:05:38|Very decent fried chicken                                |FjMQVZjSqY8syIO-53KFKw|\n",
      "+----------------------+----------------+-------------------+---------------------------------------------------------+----------------------+\n"
     ]
    },
    {
     "name": "stderr",
     "output_type": "stream",
     "text": [
      "[nltk_data] Downloading package vader_lexicon to\n",
      "[nltk_data]     /Users/hims/nltk_data...\n",
      "[nltk_data]   Package vader_lexicon is already up-to-date!\n"
     ]
    },
    {
     "name": "stdout",
     "output_type": "stream",
     "text": [
      "+--------------------+----+-------------------+-----+--------------------+-----+--------------------+------+--------------------+---------+--------------------+\n",
      "|         business_id|cool|               date|funny|           review_id|stars|                text|useful|             user_id|sentiment|      frequent_words|\n",
      "+--------------------+----+-------------------+-----+--------------------+-----+--------------------+------+--------------------+---------+--------------------+\n",
      "|grpNey31cTGKrhmQQ...|   0|2020-06-28 19:45:32|    0|6fObpwIggOQR1oDap...|  5.0|Had a wonderful, ...|     0|lN-1uUHeV_QyFbczw...| positive|[wonderful, authe...|\n",
      "|Fay6yoOC6iitEt3QL...|   0|2020-06-07 18:13:33|    0|UgtrUhfuEgUdPay75...|  4.0|Yeah it was defin...|     0|TJ8Hawan8jDIZHS7A...| positive|[definitely, chee...|\n",
      "|wQq0QBaYXa1KLNw_J...|   0|2018-08-17 18:51:47|    0|MmLxg9oLQmPpcPNqI...|  4.0|One of the last s...|     1|ML10yeoSaW60TwVaI...| positive|[poker, run, one,...|\n",
      "|xgJMQq0uVY4KB9Efn...|   0|2020-06-15 14:31:14|    0|awQEOCuJ9fL12h7iq...|  5.0|Great experience ...|     0|w3z001eXLTQrYAIFe...| positive|[great, experienc...|\n",
      "+--------------------+----+-------------------+-----+--------------------+-----+--------------------+------+--------------------+---------+--------------------+\n",
      "+--------------------+--------------------+--------------------+\n",
      "|             user_id|                text|      frequent_words|\n",
      "+--------------------+--------------------+--------------------+\n",
      "|pxMkayfWL9UZ548nW...|I must say I have...|[store, times, ru...|\n",
      "|MZd6mAllvC7Lr--mD...|We have been comi...|[beach, beachfron...|\n",
      "|tL6fMhm7mpnqS-Ec9...|I couldn't believ...|[gravy, mashed, p...|\n",
      "|J2iVTJkEsvnYPfOa5...|Good Food, Good P...|[good, definitely...|\n",
      "|nFgK42oIf6D-H1qk6...|Who doesn't love ...|[bacon, love, bre...|\n",
      "|JBB0xnz0GCCQAaeFv...|Went there yester...|[great, went, yes...|\n",
      "|aCdEIz6-2nNnD_WAf...|Had a fake Navy S...|[mike, fake, navy...|\n",
      "|1NqZ5e2jSE-Q0SgI_...|First watch has r...|[food, great, fir...|\n",
      "|Whi0IWogy-l39JYTI...|I absolutely love...|[tattoo, energy, ...|\n",
      "|XvWiVL5rUL_xO8mSF...|Great customer se...|[called, great, c...|\n",
      "|wLzrcy25bijQ-OCuG...|Everything they t...|[everything, touc...|\n",
      "|zRImGZM9z9uCwU178...|They used to have...|[tip, food, got, ...|\n",
      "|_KjRhnoQVl-8rXCCD...|Hands down the be...|[food, beans, ric...|\n",
      "|ifDGZUUtf3YbI48DB...|My experience the...|[southwestern, ex...|\n",
      "|Zq4AP9qCmrHMh2dkm...|I have been to th...|[staff, best, fac...|\n",
      "|10ibh44Wq7ZM0xTmN...|Bahn Mi is Fire! ...|[bahn, mi, fire, ...|\n",
      "|_0B2dm8THsrPSM9xx...|We love Baskin Ro...|[favorite, go, sw...|\n",
      "|-xhYPyemxskhZJAql...|The only two item...|[two, items, wort...|\n",
      "|JTlm1WXW-2gfMl0kA...|Wish I put more s...|[wish, put, stock...|\n",
      "|S9Qze1ePqvtbrJ4D7...|Brought my car in...|[car, told, appoi...|\n",
      "+--------------------+--------------------+--------------------+\n"
     ]
    }
   ],
   "source": [
    "%run /Users/hims/sjsu/bigdata_tech-228/project/customer_segmentation/code/data_prep/data_preperation.ipynb"
   ],
   "metadata": {
    "collapsed": false,
    "ExecuteTime": {
     "end_time": "2023-11-11T10:30:40.443194Z",
     "start_time": "2023-11-11T10:30:29.573276Z"
    }
   },
   "id": "b4f7aa369a3bb688"
  },
  {
   "cell_type": "code",
   "execution_count": 1,
   "outputs": [],
   "source": [],
   "metadata": {
    "collapsed": false,
    "ExecuteTime": {
     "end_time": "2023-11-11T03:33:20.280121Z",
     "start_time": "2023-11-11T03:33:20.276761Z"
    }
   },
   "id": "47612b61e6924ef0"
  },
  {
   "cell_type": "code",
   "execution_count": 2,
   "outputs": [],
   "source": [
    "columns = {\n",
    "    \"user_id\" : \"user_id\", \n",
    "    \"elites\" : \"elites\", \n",
    "    \"days_on_platform\" : \"yelping_since\", \n",
    "    \"categories_freq\": \"categories\", # Map type\n",
    "    \"number_of_unique_business\": \"business_id\",\n",
    "    \"number_of_visits_per_business\" : \"business_id\",\n",
    "    \"first_seen\" : \"review_date\",\n",
    "    \"last_seen\" : \"review_date\"\n",
    "}"
   ],
   "metadata": {
    "collapsed": false,
    "ExecuteTime": {
     "end_time": "2023-11-11T03:33:20.287245Z",
     "start_time": "2023-11-11T03:33:20.281418Z"
    }
   },
   "id": "4fadd1f296bffdb5"
  },
  {
   "cell_type": "code",
   "execution_count": 3,
   "outputs": [],
   "source": [
    "# spark = init_spark()"
   ],
   "metadata": {
    "collapsed": false,
    "ExecuteTime": {
     "end_time": "2023-11-11T04:09:33.504156Z",
     "start_time": "2023-11-11T04:09:33.497918Z"
    }
   },
   "id": "3a10c44164179308"
  },
  {
   "cell_type": "code",
   "execution_count": 3,
   "outputs": [
    {
     "name": "stdout",
     "output_type": "stream",
     "text": [
      "+--------------------+--------------------+--------------------+--------------------+-------------+--------------------+-------+----------+------------+--------------------+-----------+------------+-----+-----+\n",
      "|             address|          attributes|         business_id|          categories|         city|               hours|is_open|  latitude|   longitude|                name|postal_code|review_count|stars|state|\n",
      "+--------------------+--------------------+--------------------+--------------------+-------------+--------------------+-------+----------+------------+--------------------+-----------+------------+-----+-----+\n",
      "|1616 Chapala St, ...|{ByAppointmentOnl...|Pns2l4eNsfO8kk83d...|[Doctors, Traditi...|Santa Barbara|                null|      0|34.4266787|-119.7111968|Abby Rappoport, L...|      93101|           7|  5.0|   CA|\n",
      "|87 Grasso Plaza S...|{BusinessAcceptsC...|mpf3x-BjTdTEA3yCZ...|[Shipping Centers...|       Affton|{Monday -> 0:0-0:...|      1| 38.551126|  -90.335695|       The UPS Store|      63123|          15|  3.0|   MO|\n",
      "|5255 E Broadway Blvd|{BikeParking -> T...|tUFrWirKiKi_TAnsV...|[Department Store...|       Tucson|{Monday -> 8:0-22...|      0| 32.223236| -110.880452|              Target|      85711|          22|  3.5|   AZ|\n",
      "|         935 Race St|{RestaurantsDeliv...|MTSW4McQd7CbVtyjq...|[Restaurants, Foo...| Philadelphia|{Monday -> 7:0-20...|      1|39.9555052| -75.1555641|  St Honore Pastries|      19107|          80|  4.0|   PA|\n",
      "+--------------------+--------------------+--------------------+--------------------+-------------+--------------------+-------+----------+------------+--------------------+-----------+------------+-----+-----+\n",
      "+-------------+---------------+---------------+----------------+--------------+---------------+---------------+---------------+-----------------+----------------+------------------+-----------------+-----+--------------------+----+-----+------+------------+------+--------------------+-------------------+\n",
      "|average_stars|compliment_cool|compliment_cute|compliment_funny|compliment_hot|compliment_list|compliment_more|compliment_note|compliment_photos|compliment_plain|compliment_profile|compliment_writer| cool|               elite|fans|funny|  name|review_count|useful|             user_id|      yelping_since|\n",
      "+-------------+---------------+---------------+----------------+--------------+---------------+---------------+---------------+-----------------+----------------+------------------+-----------------+-----+--------------------+----+-----+------+------------+------+--------------------+-------------------+\n",
      "|         3.91|            467|             56|             467|           250|             18|             65|            232|              180|             844|                55|              239| 5994|              [2007]| 267| 1259|Walker|         585|  7217|qVc8ODYU5SZjKXVBg...|2007-01-25 16:47:26|\n",
      "|         3.74|           3131|            157|            3131|          1145|            251|            264|           1847|             1946|            7054|               184|             1521|27281|[2009,2010,2011,2...|3138|13066|Daniel|        4333| 43091|j14WgRoU_-2ZE1aw1...|2009-01-25 04:35:42|\n",
      "|         3.32|            119|             17|             119|            89|              3|             13|             66|               18|              96|                10|               35| 1003|[2009,2010,2011,2...|  52| 1010| Steph|         665|  2086|2WnXYQFK0hXEoTxPt...|2008-07-25 10:41:00|\n",
      "+-------------+---------------+---------------+----------------+--------------+---------------+---------------+---------------+-----------------+----------------+------------------+-----------------+-----+--------------------+----+-----+------+------------+------+--------------------+-------------------+\n",
      "+--------------------+--------------------+\n",
      "|             user_id|             friends|\n",
      "+--------------------+--------------------+\n",
      "|qVc8ODYU5SZjKXVBg...|[NSCy54eWehBJyZdG...|\n",
      "|j14WgRoU_-2ZE1aw1...|[ueRPE0CX75ePGMqO...|\n",
      "|2WnXYQFK0hXEoTxPt...|[LuO3Bn4f3rlhyHIa...|\n",
      "|SZDeASXq7o05mMNLs...|[enx1vVPnfdNUdPho...|\n",
      "+--------------------+--------------------+\n",
      "+--------------------+--------------------+\n",
      "|         business_id|                date|\n",
      "+--------------------+--------------------+\n",
      "|---kPU91CF4Lq2-Wl...|[2020-03-13 21:10...|\n",
      "|--0iUa4sNDFiZFrAd...|[2010-09-13 21:43...|\n",
      "|--30_8IhuyMHbSOcN...|[2013-06-14 23:29...|\n",
      "|--7PUidqRWpRSpXeb...|[2011-02-15 17:12...|\n",
      "+--------------------+--------------------+\n",
      "+----------------------+----------------+-------------------+---------------------------------------------------------+----------------------+\n",
      "|business_id           |compliment_count|date               |text                                                     |user_id               |\n",
      "+----------------------+----------------+-------------------+---------------------------------------------------------+----------------------+\n",
      "|3uLgwr0qeCNMjKenHJwPGQ|0               |2012-05-18 02:17:21|Avengers time with the ladies.                           |AGNUgVwnZUey3gcPCJ76iw|\n",
      "|QoezRbYQncpRqyrLH6Iqjg|0               |2013-02-05 18:35:10|They have lots of good deserts and tasty cuban sandwiches|NBN4MgHP9D3cw--SnauTkA|\n",
      "|MYoRNLb5chwjQe3c_k37Gg|0               |2013-08-18 00:56:08|It's open even when you think it isn't                   |-copOvldyKh1qr-vzkDEvw|\n",
      "|hV-bABTK-glh5wj31ps_Jw|0               |2017-06-27 23:05:38|Very decent fried chicken                                |FjMQVZjSqY8syIO-53KFKw|\n",
      "+----------------------+----------------+-------------------+---------------------------------------------------------+----------------------+\n",
      "+--------------------+----+-------------------+-----+--------------------+-----+--------------------+------+--------------------+---------+--------------------+\n",
      "|         business_id|cool|               date|funny|           review_id|stars|                text|useful|             user_id|sentiment|      frequent_words|\n",
      "+--------------------+----+-------------------+-----+--------------------+-----+--------------------+------+--------------------+---------+--------------------+\n",
      "|grpNey31cTGKrhmQQ...|   0|2020-06-28 19:45:32|    0|6fObpwIggOQR1oDap...|  5.0|Had a wonderful, ...|     0|lN-1uUHeV_QyFbczw...| positive|[wonderful, authe...|\n",
      "|Fay6yoOC6iitEt3QL...|   0|2020-06-07 18:13:33|    0|UgtrUhfuEgUdPay75...|  4.0|Yeah it was defin...|     0|TJ8Hawan8jDIZHS7A...| positive|[definitely, chee...|\n",
      "|wQq0QBaYXa1KLNw_J...|   0|2018-08-17 18:51:47|    0|MmLxg9oLQmPpcPNqI...|  4.0|One of the last s...|     1|ML10yeoSaW60TwVaI...| positive|[poker, run, one,...|\n",
      "|xgJMQq0uVY4KB9Efn...|   0|2020-06-15 14:31:14|    0|awQEOCuJ9fL12h7iq...|  5.0|Great experience ...|     0|w3z001eXLTQrYAIFe...| positive|[great, experienc...|\n",
      "+--------------------+----+-------------------+-----+--------------------+-----+--------------------+------+--------------------+---------+--------------------+\n"
     ]
    }
   ],
   "source": [
    "business_df = process_business_data(spark)\n",
    "user_df = process_user_data(spark)\n",
    "friends_df = process_friends_data(spark)\n",
    "checkin_df = process_checkin_data(spark)\n",
    "tip_df = process_tip_data(spark)\n",
    "review_df = process_review_data(spark)\n",
    "\n",
    "review_df.createOrReplaceTempView(\"review\")\n",
    "joined_df = review_df.join(business_df, on = [\"business_id\"]).join(user_df, on = [\"user_id\"])\n",
    "joined_df.createOrReplaceTempView(\"joined_df\")\n",
    "\n"
   ],
   "metadata": {
    "collapsed": false,
    "ExecuteTime": {
     "end_time": "2023-11-11T10:31:02.546460Z",
     "start_time": "2023-11-11T10:31:00.727442Z"
    }
   },
   "id": "b07643e784f32d14"
  },
  {
   "cell_type": "code",
   "execution_count": 4,
   "outputs": [],
   "source": [
    "def get_customer_agg_value(spark):\n",
    "    df = spark.sql(\"\"\"\n",
    "        select \n",
    "            user_id, \n",
    "            min(date) as first_seen, \n",
    "            max(date) as last_seen, \n",
    "            DATEDIFF(max(date), min(date)) as date_diff,\n",
    "            count(distinct business_id) as different_business_count,\n",
    "            avg(stars) as avg_rating,\n",
    "            min(stars) as min_stars,\n",
    "            max(stars) as max_stars\n",
    "        from review\n",
    "        group by user_id \n",
    "    \"\"\")\n",
    "    return df"
   ],
   "metadata": {
    "collapsed": false,
    "ExecuteTime": {
     "end_time": "2023-11-11T10:31:04.035277Z",
     "start_time": "2023-11-11T10:31:04.020748Z"
    }
   },
   "id": "e71e5d1c09471624"
  },
  {
   "cell_type": "code",
   "execution_count": 6,
   "outputs": [
    {
     "name": "stdout",
     "output_type": "stream",
     "text": [
      "root\n",
      " |-- user_id: string (nullable = true)\n",
      " |-- category_map: map (nullable = true)\n",
      " |    |-- key: string\n",
      " |    |-- value: integer (valueContainsNull = true)\n",
      "+----------------------+-----------------------------------------------------------------------------------------------------------------------------------------------------------------------------------------------------------------------------------+\n",
      "|user_id               |category_map                                                                                                                                                                                                                       |\n",
      "+----------------------+-----------------------------------------------------------------------------------------------------------------------------------------------------------------------------------------------------------------------------------+\n",
      "|---1lKK3aKOuomHnwAkAow|{Float Spa -> 1, Counseling & Mental Health -> 1, Active Life -> 1, Health & Medical -> 1, Naturopathic/Holistic -> 1, Massage Therapy -> 1, Yoga -> 1, Fitness & Instruction -> 1, Massage -> 1, Beauty & Spas -> 1, Doctors -> 1}|\n",
      "|---fa6ZK37T9NjkGKI4oSg|{Home & Garden -> 1, Furniture Stores -> 1, Shopping -> 1, Home Decor -> 1}                                                                                                                                                        |\n",
      "|--0DrQkM0FT-yCQRWw82uQ|{Chinese -> 1, Restaurants -> 1}                                                                                                                                                                                                   |\n",
      "|--0FNOzZkEQlz8WzS3WttQ|{Specialty Food -> 1, Grocery -> 1, Ethnic Food -> 1, International Grocery -> 1, Ethical Grocery -> 1, Imported Food -> 1, Food -> 1}                                                                                             |\n",
      "|--0Jj_J_MmUJ51f1Y394Uw|{Seafood -> 1, Restaurants -> 1}                                                                                                                                                                                                   |\n",
      "+----------------------+-----------------------------------------------------------------------------------------------------------------------------------------------------------------------------------------------------------------------------------+\n",
      "only showing top 5 rows\n"
     ]
    }
   ],
   "source": [
    "from pyspark.sql.functions import explode, col, create_map, collect_list\n",
    "from pyspark.sql.functions import udf,collect_list\n",
    "from pyspark.sql.types import MapType, StringType, IntegerType, MapType\n",
    "\n",
    "def get_customer_category_counts(joined_df):\n",
    "    \n",
    "    # https://stackoverflow.com/questions/43723864/combine-array-of-maps-into-single-map-in-pyspark-dataframe\n",
    "    combineMap = udf(lambda maps: {key:f[key] for f in maps for key in f},\n",
    "                   MapType(StringType(),StringType()))\n",
    "\n",
    "    @udf(MapType(StringType(), IntegerType()))\n",
    "    def merge_maps_array(map_array):\n",
    "        result = {}\n",
    "        for m in map_array:\n",
    "            for k, v in m.items():\n",
    "                result[k] = result.get(k, 0) + v\n",
    "        return result\n",
    "\n",
    "\n",
    "    df = joined_df.select(\"user_id\", explode(\"categories\").alias(\"category\")) \\\n",
    "        .groupBy(\"user_id\", \"category\").count() \\\n",
    "        .withColumn(\"category_map\", create_map(col(\"category\"), col(\"count\"))) \\\n",
    "        .groupBy(\"user_id\").agg(collect_list(col(\"category_map\")).alias(\"category_map\")) \\\n",
    "        .withColumn(\"category_map\", merge_maps_array(col(\"category_map\"))) \\\n",
    "    \n",
    "    df.printSchema()\n",
    "    return df\n",
    "\n",
    "get_customer_category_counts(joined_df).show(5, False)\n"
   ],
   "metadata": {
    "collapsed": false,
    "ExecuteTime": {
     "end_time": "2023-11-11T10:32:35.690357Z",
     "start_time": "2023-11-11T10:32:12.634907Z"
    }
   },
   "id": "c9e971db1915a78f"
  },
  {
   "cell_type": "code",
   "execution_count": 8,
   "outputs": [],
   "source": [
    "from pyspark.sql.functions import col, size\n",
    "\n",
    "def get_friends_count():\n",
    "    df = friends_df.select(\"user_id\", size(col(\"friends\")).alias(\"friends_count\"))\n",
    "    return df"
   ],
   "metadata": {
    "collapsed": false,
    "ExecuteTime": {
     "end_time": "2023-11-11T04:10:05.691651Z",
     "start_time": "2023-11-11T04:10:05.685629Z"
    }
   },
   "id": "804b021fdae59f8f"
  },
  {
   "cell_type": "code",
   "execution_count": 9,
   "outputs": [],
   "source": [
    "from pyspark.sql.functions import col, udf\n",
    "from pyspark.sql.types import StringType\n",
    "from nltk.sentiment import SentimentIntensityAnalyzer\n",
    "\n",
    "# Initialize the Sentiment Intensity Analyzer\n",
    "sia = SentimentIntensityAnalyzer()\n",
    "\n",
    "# Define a UDF for sentiment analysis\n",
    "def get_sentiment(text):\n",
    "    sentiment_score = sia.polarity_scores(text)[\"compound\"]\n",
    "    if sentiment_score >= 0.05:\n",
    "        return \"positive\"\n",
    "    elif sentiment_score <= -0.05:\n",
    "        return \"negative\"\n",
    "    else:\n",
    "        return \"neutral\"\n",
    "\n",
    "def get_sentiments_count():\n",
    "    sentiment_udf = udf(get_sentiment, StringType())\n",
    "\n",
    "    df = review_df.select(\"user_id\", \"text\", sentiment_udf(col(\"text\")).alias(\"sentiment\"))\n",
    "    return df\n",
    "\n"
   ],
   "metadata": {
    "collapsed": false,
    "ExecuteTime": {
     "end_time": "2023-11-11T04:10:07.050046Z",
     "start_time": "2023-11-11T04:10:06.085300Z"
    }
   },
   "id": "dc96fbbb60352276"
  },
  {
   "cell_type": "code",
   "execution_count": null,
   "outputs": [],
   "source": [
    "def most_frequent_words():\n",
    "    df = review_df.select(\"user_id\", \"text\")\n",
    "    return df"
   ],
   "metadata": {
    "collapsed": false
   },
   "id": "e23c871aee138655"
  },
  {
   "cell_type": "code",
   "execution_count": null,
   "outputs": [],
   "source": [],
   "metadata": {
    "collapsed": false
   },
   "id": "e36db9ab82b5d236"
  },
  {
   "cell_type": "code",
   "execution_count": null,
   "outputs": [],
   "source": [],
   "metadata": {
    "collapsed": false
   },
   "id": "8e38bdd0363a0fd6"
  },
  {
   "cell_type": "code",
   "execution_count": null,
   "outputs": [],
   "source": [],
   "metadata": {
    "collapsed": false,
    "ExecuteTime": {
     "end_time": "2023-11-11T04:07:49.228750Z",
     "start_time": "2023-11-11T04:07:49.225441Z"
    }
   },
   "id": "75402d9829acfab0"
  },
  {
   "cell_type": "code",
   "execution_count": 10,
   "outputs": [
    {
     "name": "stdout",
     "output_type": "stream",
     "text": [
      "root\n",
      " |-- user_id: string (nullable = true)\n",
      " |-- average_stars: double (nullable = true)\n",
      " |-- compliment_cool: long (nullable = true)\n",
      " |-- compliment_cute: long (nullable = true)\n",
      " |-- compliment_funny: long (nullable = true)\n",
      " |-- compliment_hot: long (nullable = true)\n",
      " |-- compliment_list: long (nullable = true)\n",
      " |-- compliment_more: long (nullable = true)\n",
      " |-- compliment_note: long (nullable = true)\n",
      " |-- compliment_photos: long (nullable = true)\n",
      " |-- compliment_plain: long (nullable = true)\n",
      " |-- compliment_profile: long (nullable = true)\n",
      " |-- compliment_writer: long (nullable = true)\n",
      " |-- cool: long (nullable = true)\n",
      " |-- elite: array (nullable = true)\n",
      " |    |-- element: string (containsNull = true)\n",
      " |-- fans: long (nullable = true)\n",
      " |-- funny: long (nullable = true)\n",
      " |-- name: string (nullable = true)\n",
      " |-- review_count: long (nullable = true)\n",
      " |-- useful: long (nullable = true)\n",
      " |-- yelping_since: timestamp (nullable = true)\n",
      " |-- first_seen: timestamp (nullable = true)\n",
      " |-- last_seen: timestamp (nullable = true)\n",
      " |-- date_diff: integer (nullable = true)\n",
      " |-- different_business_count: long (nullable = false)\n",
      " |-- avg_rating: double (nullable = true)\n",
      " |-- min_stars: double (nullable = true)\n",
      " |-- max_stars: double (nullable = true)\n",
      " |-- maps: array (nullable = false)\n",
      " |    |-- element: map (containsNull = false)\n",
      " |    |    |-- key: string\n",
      " |    |    |-- value: long (valueContainsNull = false)\n",
      " |-- friends_count: integer (nullable = false)\n"
     ]
    },
    {
     "name": "stderr",
     "output_type": "stream",
     "text": [
      "Java HotSpot(TM) 64-Bit Server VM warning: CodeCache is full. Compiler has been disabled.\n",
      "Java HotSpot(TM) 64-Bit Server VM warning: Try increasing the code cache size using -XX:ReservedCodeCacheSize=\n"
     ]
    },
    {
     "name": "stdout",
     "output_type": "stream",
     "text": [
      "CodeCache: size=131072Kb used=32040Kb max_used=32100Kb free=99031Kb\n",
      " bounds [0x0000000104a60000, 0x00000001069f0000, 0x000000010ca60000]\n",
      " total_blobs=12171 nmethods=11175 adapters=906\n",
      " compilation: disabled (not enough contiguous free space left)\n"
     ]
    },
    {
     "name": "stderr",
     "output_type": "stream",
     "text": [
      "                                                                                \r"
     ]
    },
    {
     "data": {
      "text/plain": "1987653"
     },
     "execution_count": 10,
     "metadata": {},
     "output_type": "execute_result"
    }
   ],
   "source": [
    "user_agg_df = get_customer_agg_value(spark)\n",
    "user_category_df = get_customer_category_counts(joined_df)\n",
    "friends_count = get_friends_count()\n",
    "\n",
    "complete_user_df = user_df \\\n",
    "                    .join(user_agg_df, on = [\"user_id\"]) \\\n",
    "                    .join(user_category_df, on = [\"user_id\"]) \\\n",
    "                    .join(friends_count, on = [\"user_id\"])\n",
    "\n",
    "complete_user_df.printSchema()\n",
    "complete_user_df.count()"
   ],
   "metadata": {
    "collapsed": false,
    "ExecuteTime": {
     "end_time": "2023-11-11T04:10:49.662862Z",
     "start_time": "2023-11-11T04:10:09.159200Z"
    }
   },
   "id": "3362021c499516d5"
  },
  {
   "cell_type": "code",
   "execution_count": null,
   "outputs": [],
   "source": [],
   "metadata": {
    "collapsed": false
   },
   "id": "c9d770948f81b66"
  }
 ],
 "metadata": {
  "kernelspec": {
   "display_name": "Python 3",
   "language": "python",
   "name": "python3"
  },
  "language_info": {
   "codemirror_mode": {
    "name": "ipython",
    "version": 2
   },
   "file_extension": ".py",
   "mimetype": "text/x-python",
   "name": "python",
   "nbconvert_exporter": "python",
   "pygments_lexer": "ipython2",
   "version": "2.7.6"
  }
 },
 "nbformat": 4,
 "nbformat_minor": 5
}
