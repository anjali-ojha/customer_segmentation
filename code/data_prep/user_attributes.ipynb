{
 "cells": [
  {
   "cell_type": "code",
   "execution_count": 32,
   "id": "b4f7aa369a3bb688",
   "metadata": {
    "ExecuteTime": {
     "end_time": "2023-11-11T23:51:06.220597Z",
     "start_time": "2023-11-11T23:51:05.868619Z"
    }
   },
   "outputs": [
    {
     "name": "stdout",
     "output_type": "stream",
     "text": [
      "Loading configs.py\n"
     ]
    },
    {
     "name": "stderr",
     "output_type": "stream",
     "text": [
      "[nltk_data] Downloading package vader_lexicon to\n",
      "[nltk_data]     /Users/hims/nltk_data...\n",
      "[nltk_data]   Package vader_lexicon is already up-to-date!\n"
     ]
    }
   ],
   "source": [
    "%run ../data_prep/data_preperation.ipynb\n"
   ]
  },
  {
   "cell_type": "code",
   "execution_count": 33,
   "id": "47612b61e6924ef0",
   "metadata": {
    "ExecuteTime": {
     "end_time": "2023-11-11T23:51:07.001504Z",
     "start_time": "2023-11-11T23:51:06.992965Z"
    }
   },
   "outputs": [],
   "source": [
    "from pyspark.sql.functions import col, udf\n",
    "from pyspark.sql.functions import collect_list\n",
    "from pyspark.sql.functions import explode, create_map\n",
    "from pyspark.sql.functions import size\n",
    "from pyspark.sql.types import IntegerType, MapType\n",
    "from pyspark.sql.types import StringType"
   ]
  },
  {
   "cell_type": "code",
   "execution_count": 34,
   "id": "9f53c37773805670",
   "metadata": {
    "ExecuteTime": {
     "end_time": "2023-11-11T23:51:07.693363Z",
     "start_time": "2023-11-11T23:51:07.680081Z"
    }
   },
   "outputs": [],
   "source": [
    "# def cache_to_disk_for_test(user_df, review_df, friends_df):\n",
    "#     user_df.write.mode(\"overwrite\").parquet(\"/tmp/test-1/cache/user_df\")\n",
    "#     user_df = spark.read.parquet(\"/tmp/test-1/cache/user_df\")\n",
    "#      \n",
    "#     review_df.write.mode(\"overwrite\").parquet(\"/tmp/test-1/cache/review_df\")\n",
    "#     review_df = spark.read.parquet(\"/tmp/test-1/cache/review_df\")\n",
    "#     \n",
    "#     friends_df.write.mode(\"overwrite\").parquet(\"/tmp/test-1/cache/friends_df\")\n",
    "#     friends_df = spark.read.parquet(\"/tmp/test-1/cache/friends_df\")\n",
    "#     \n",
    "#     return user_df, joined_df, review_df, friends_df\n",
    "#     \n",
    "    "
   ]
  },
  {
   "cell_type": "code",
   "execution_count": 35,
   "id": "b07643e784f32d14",
   "metadata": {
    "ExecuteTime": {
     "end_time": "2023-11-11T23:51:08.195342Z",
     "start_time": "2023-11-11T23:51:08.185852Z"
    }
   },
   "outputs": [],
   "source": [
    "# business_df = process_business_data(spark).withColumnRenamed(\"review_count\", \"bus_review_count\").withColumnRenamed(\"stars\", \"bus_stars\").withColumnRenamed(\"name\", \"bus_name\").cache()\n",
    "# \n",
    "# checkin_df = process_checkin_data(spark)\n",
    "# full_review_df = process_review_data(spark)\n",
    "# \n",
    "# selected_user_id = full_review_df.groupBy(\"user_id\").count().orderBy(col(\"count\").desc()).select(\"user_id\").sample(0.001)\n",
    "# full_review_df.groupBy(\"user_id\").count().orderBy(col(\"count\").desc()).show()\n",
    "# selected_user_id.write.mode(\"overwrite\").parquet(\"/tmp/test-1/cache/selected_user_id\")\n",
    "# selected_user_id = spark.read.parquet(\"/tmp/test-1/cache/selected_user_id\")\n",
    "# \n",
    "# \n",
    "# review_df = process_review_data(spark).repartition(40).select(\"user_id\", \"business_id\", \"sentiment\", \"date\", \"frequent_words\").join(selected_user_id, on = [\"user_id\"])\n",
    "# review_df.write.mode(\"overwrite\").parquet(\"/tmp/test-1/cache/review_df\")\n",
    "# review_df = spark.read.parquet(\"/tmp/test-1/cache/review_df\")\n",
    "# \n",
    "# \n",
    "# friends_df = process_friends_data(spark).join(selected_user_id, on = [\"user_id\"])\n",
    "# friends_df.write.mode(\"overwrite\").parquet(\"/tmp/test-1/cache/friends_df\")\n",
    "# friends_df = spark.read.parquet(\"/tmp/test-1/cache/friends_df\")\n",
    "# \n",
    "# \n",
    "# tip_df = process_tip_data(spark).join(selected_user_id, on = [\"user_id\"])\n",
    "# user_df = process_user_data(spark).join(selected_user_id, on = [\"user_id\"]).withColumnRenamed(\"review_count\", \"user_review_count\").withColumnRenamed(\"useful\", \"user_useful\").withColumnRenamed(\"funny\", \"user_funny\").withColumnRenamed(\"cool\", \"user_cool\")\n",
    "# user_df.write.mode(\"overwrite\").parquet(\"/tmp/test-1/cache/user_df\")\n",
    "# user_df = spark.read.parquet(\"/tmp/test-1/cache/user_df\")\n",
    "# \n",
    "# \n",
    "# \n",
    "# review_df.count()\n",
    "# # user_df, review_df, friends_df = cache_to_disk_for_test(user_df, review_df, friends_df)"
   ]
  },
  {
   "cell_type": "code",
   "execution_count": 36,
   "id": "3501f975302764fe",
   "metadata": {
    "ExecuteTime": {
     "end_time": "2023-11-11T23:51:08.780063Z",
     "start_time": "2023-11-11T23:51:08.768511Z"
    }
   },
   "outputs": [
    {
     "name": "stdout",
     "output_type": "stream",
     "text": [
      "root\n",
      " |-- user_id: string (nullable = true)\n",
      " |-- average_stars: double (nullable = true)\n",
      " |-- compliment_cool: long (nullable = true)\n",
      " |-- compliment_cute: long (nullable = true)\n",
      " |-- compliment_funny: long (nullable = true)\n",
      " |-- compliment_hot: long (nullable = true)\n",
      " |-- compliment_list: long (nullable = true)\n",
      " |-- compliment_more: long (nullable = true)\n",
      " |-- compliment_note: long (nullable = true)\n",
      " |-- compliment_photos: long (nullable = true)\n",
      " |-- compliment_plain: long (nullable = true)\n",
      " |-- compliment_profile: long (nullable = true)\n",
      " |-- compliment_writer: long (nullable = true)\n",
      " |-- cool: long (nullable = true)\n",
      " |-- elite: array (nullable = true)\n",
      " |    |-- element: string (containsNull = true)\n",
      " |-- fans: long (nullable = true)\n",
      " |-- funny: long (nullable = true)\n",
      " |-- name: string (nullable = true)\n",
      " |-- review_count: long (nullable = true)\n",
      " |-- useful: long (nullable = true)\n",
      " |-- yelping_since: timestamp (nullable = true)\n"
     ]
    }
   ],
   "source": [
    "user_df.printSchema()\n"
   ]
  },
  {
   "cell_type": "code",
   "execution_count": 37,
   "id": "e71e5d1c09471624",
   "metadata": {
    "ExecuteTime": {
     "end_time": "2023-11-11T23:51:15.066709Z",
     "start_time": "2023-11-11T23:51:15.060479Z"
    }
   },
   "outputs": [],
   "source": [
    "def get_customer_agg_value(spark):\n",
    "    review_df.createOrReplaceTempView(\"review\")\n",
    "    df = spark.sql(\"\"\"\n",
    "        select \n",
    "            user_id, \n",
    "            min(date) as first_seen, \n",
    "            max(date) as last_seen, \n",
    "            DATEDIFF(max(date), min(date)) as date_diff,\n",
    "            count(distinct business_id) as different_business_count,\n",
    "            avg(stars) as avg_rating,\n",
    "            min(stars) as min_stars,\n",
    "            max(stars) as max_stars\n",
    "        from review\n",
    "        group by user_id \n",
    "    \"\"\")\n",
    "    return df"
   ]
  },
  {
   "cell_type": "code",
   "execution_count": 38,
   "id": "c9e971db1915a78f",
   "metadata": {
    "ExecuteTime": {
     "end_time": "2023-11-11T23:51:15.964083Z",
     "start_time": "2023-11-11T23:51:15.958731Z"
    }
   },
   "outputs": [],
   "source": [
    "\n",
    "@udf(MapType(StringType(), IntegerType()))\n",
    "def merge_maps_array(map_array):\n",
    "    result = {}\n",
    "    for m in map_array:\n",
    "        for k, v in m.items():\n",
    "            result[k] = result.get(k, 0) + v\n",
    "    return result\n",
    "\n",
    "\n",
    "def get_customer_category_counts():\n",
    "    df = review_df.select(\"user_id\", \"business_id\") \\\n",
    "        .join(business_df.select(\"business_id\", \"categories\"), on = [\"business_id\"]) \\\n",
    "        .select(\"user_id\", explode(\"categories\").alias(\"category\")) \\\n",
    "        .groupBy(\"user_id\", \"category\").count() \\\n",
    "        .withColumn(\"category_map\", create_map(col(\"category\"), col(\"count\"))) \\\n",
    "        .groupBy(\"user_id\").agg(collect_list(col(\"category_map\")).alias(\"category_map\")) \\\n",
    "        .withColumn(\"category_map\", merge_maps_array(col(\"category_map\")))\n",
    "        \n",
    "    return df\n",
    "\n",
    "# get_customer_category_counts(joined_df).show(5, False)\n"
   ]
  },
  {
   "cell_type": "code",
   "execution_count": 39,
   "id": "804b021fdae59f8f",
   "metadata": {
    "ExecuteTime": {
     "end_time": "2023-11-11T23:51:16.741905Z",
     "start_time": "2023-11-11T23:51:16.729030Z"
    }
   },
   "outputs": [],
   "source": [
    "def get_friends_count():\n",
    "    df = friends_df.select(\"user_id\", size(col(\"friends\")).alias(\"friends_count\"))\n",
    "    return df"
   ]
  },
  {
   "cell_type": "code",
   "execution_count": 40,
   "id": "dc96fbbb60352276",
   "metadata": {
    "ExecuteTime": {
     "end_time": "2023-11-11T23:51:17.355792Z",
     "start_time": "2023-11-11T23:51:17.350530Z"
    }
   },
   "outputs": [],
   "source": [
    "def get_sentiments_count():\n",
    "    df = review_df.select(\"user_id\", \"sentiment\").groupBy(\"user_id\", \"sentiment\").count() \\\n",
    "        .withColumnRenamed(\"count\", \"sentiment_count\") \\\n",
    "        .withColumn(\"sentiment_map\", create_map(col(\"sentiment\"), col(\"sentiment_count\"))) \\\n",
    "        .groupBy(\"user_id\").agg(collect_list(col(\"sentiment_map\")).alias(\"sentiment_map\")) \\\n",
    "        .withColumn(\"sentiment_map\", merge_maps_array(col(\"sentiment_map\"))) \n",
    "    \n",
    "    return df\n",
    "\n",
    "# get_sentiments_count().show()"
   ]
  },
  {
   "cell_type": "code",
   "execution_count": 41,
   "id": "e23c871aee138655",
   "metadata": {
    "ExecuteTime": {
     "end_time": "2023-11-11T23:51:17.995807Z",
     "start_time": "2023-11-11T23:51:17.993279Z"
    }
   },
   "outputs": [],
   "source": [
    "def most_frequent_words():\n",
    "    return review_df.select(\"user_id\", explode(\"frequent_words\").alias(\"frequent_words\")) \\\n",
    "        .groupBy(\"user_id\", \"frequent_words\").count() \\\n",
    "        .withColumn(\"frequent_words_map\", create_map(col(\"frequent_words\"), col(\"count\"))) \\\n",
    "        .groupBy(\"user_id\").agg(collect_list(col(\"frequent_words_map\")).alias(\"frequent_words_map\")) \\\n",
    "        .withColumn(\"frequent_words_map\", merge_maps_array(col(\"frequent_words_map\")))\n",
    "\n",
    "#     return df"
   ]
  },
  {
   "cell_type": "code",
   "execution_count": 41,
   "id": "e36db9ab82b5d236",
   "metadata": {
    "ExecuteTime": {
     "end_time": "2023-11-11T23:51:18.807551Z",
     "start_time": "2023-11-11T23:51:18.801343Z"
    }
   },
   "outputs": [],
   "source": []
  },
  {
   "cell_type": "code",
   "execution_count": 41,
   "id": "8e38bdd0363a0fd6",
   "metadata": {
    "ExecuteTime": {
     "end_time": "2023-11-11T23:51:19.186167Z",
     "start_time": "2023-11-11T23:51:19.178431Z"
    }
   },
   "outputs": [],
   "source": []
  },
  {
   "cell_type": "markdown",
   "id": "26671a5f0185bc69",
   "metadata": {},
   "source": [
    "# Merging all the dataframes"
   ]
  },
  {
   "cell_type": "code",
   "execution_count": 45,
   "id": "91bacb7823ece00c",
   "metadata": {
    "ExecuteTime": {
     "end_time": "2023-11-11T23:54:07.848452Z",
     "start_time": "2023-11-11T23:54:05.570263Z"
    }
   },
   "outputs": [
    {
     "name": "stdout",
     "output_type": "stream",
     "text": [
      "root\n",
      " |-- user_id: string (nullable = true)\n",
      " |-- average_stars: double (nullable = true)\n",
      " |-- compliment_cool: long (nullable = true)\n",
      " |-- compliment_cute: long (nullable = true)\n",
      " |-- compliment_funny: long (nullable = true)\n",
      " |-- compliment_hot: long (nullable = true)\n",
      " |-- compliment_list: long (nullable = true)\n",
      " |-- compliment_more: long (nullable = true)\n",
      " |-- compliment_note: long (nullable = true)\n",
      " |-- compliment_photos: long (nullable = true)\n",
      " |-- compliment_plain: long (nullable = true)\n",
      " |-- compliment_profile: long (nullable = true)\n",
      " |-- compliment_writer: long (nullable = true)\n",
      " |-- cool: long (nullable = true)\n",
      " |-- elite: array (nullable = true)\n",
      " |    |-- element: string (containsNull = true)\n",
      " |-- fans: long (nullable = true)\n",
      " |-- funny: long (nullable = true)\n",
      " |-- name: string (nullable = true)\n",
      " |-- review_count: long (nullable = true)\n",
      " |-- useful: long (nullable = true)\n",
      " |-- yelping_since: timestamp (nullable = true)\n",
      " |-- first_seen: timestamp (nullable = true)\n",
      " |-- last_seen: timestamp (nullable = true)\n",
      " |-- date_diff: integer (nullable = true)\n",
      " |-- different_business_count: long (nullable = false)\n",
      " |-- avg_rating: double (nullable = true)\n",
      " |-- min_stars: double (nullable = true)\n",
      " |-- max_stars: double (nullable = true)\n",
      " |-- category_map: map (nullable = true)\n",
      " |    |-- key: string\n",
      " |    |-- value: integer (valueContainsNull = true)\n",
      " |-- friends_count: integer (nullable = false)\n",
      " |-- sentiment_map: map (nullable = true)\n",
      " |    |-- key: string\n",
      " |    |-- value: integer (valueContainsNull = true)\n"
     ]
    }
   ],
   "source": [
    "\n",
    "user_agg_df = get_customer_agg_value(spark)\n",
    "user_category_df = get_customer_category_counts()\n",
    "friends_count_df = get_friends_count()\n",
    "sentiment_count_df = get_sentiments_count()\n",
    "frequent_words_df = most_frequent_words()\n",
    "\n",
    "complete_user_df = user_df \\\n",
    "                    .join(user_agg_df, on = [\"user_id\"]) \\\n",
    "                    .join(user_category_df, on = [\"user_id\"]) \\\n",
    "                    .join(friends_count_df, on = [\"user_id\"]) \\\n",
    "                    .join(sentiment_count_df, on = [\"user_id\"]).cache()\n",
    "\n",
    "complete_user_df.printSchema()\n",
    "complete_user_df.count()\n",
    "\n",
    "complete_user_df.write.mode(\"overwrite\").parquet(f\"{sampleOutputPath}/combined\")\n",
    "# save_spark_df_to_db(complete_user_df, \"users\")\n",
    "# complete_user_df.count()"
   ]
  },
  {
   "cell_type": "markdown",
   "source": [],
   "metadata": {
    "collapsed": false
   },
   "id": "8a373a4930c7f056"
  },
  {
   "cell_type": "code",
   "execution_count": 43,
   "id": "c9d770948f81b66",
   "metadata": {
    "ExecuteTime": {
     "end_time": "2023-11-11T23:52:26.021261Z",
     "start_time": "2023-11-11T23:52:07.643276Z"
    }
   },
   "outputs": [],
   "source": [
    "save_spark_df_to_db(complete_user_df, \"users\")\n"
   ]
  },
  {
   "cell_type": "code",
   "execution_count": null,
   "id": "81ed60c0d478e519",
   "metadata": {},
   "outputs": [],
   "source": []
  }
 ],
 "metadata": {
  "kernelspec": {
   "display_name": "Python 3",
   "language": "python",
   "name": "python3"
  },
  "language_info": {
   "codemirror_mode": {
    "name": "ipython",
    "version": 3
   },
   "file_extension": ".py",
   "mimetype": "text/x-python",
   "name": "python",
   "nbconvert_exporter": "python",
   "pygments_lexer": "ipython3",
   "version": "3.6.13"
  },
  "varInspector": {
   "cols": {
    "lenName": 16,
    "lenType": 16,
    "lenVar": 40
   },
   "kernels_config": {
    "python": {
     "delete_cmd_postfix": "",
     "delete_cmd_prefix": "del ",
     "library": "var_list.py",
     "varRefreshCmd": "print(var_dic_list())"
    },
    "r": {
     "delete_cmd_postfix": ") ",
     "delete_cmd_prefix": "rm(",
     "library": "var_list.r",
     "varRefreshCmd": "cat(var_dic_list()) "
    }
   },
   "types_to_exclude": [
    "module",
    "function",
    "builtin_function_or_method",
    "instance",
    "_Feature"
   ],
   "window_display": false
  }
 },
 "nbformat": 4,
 "nbformat_minor": 5
}
