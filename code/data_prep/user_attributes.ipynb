{
 "cells": [
  {
   "cell_type": "code",
   "execution_count": 1,
   "id": "b4f7aa369a3bb688",
   "metadata": {
    "ExecuteTime": {
     "end_time": "2023-11-11T14:01:22.152628Z",
     "start_time": "2023-11-11T14:01:14.855791Z"
    }
   },
   "outputs": [
    {
     "name": "stdout",
     "output_type": "stream",
     "text": [
      "Loading configs.py\n"
     ]
    },
    {
     "name": "stderr",
     "output_type": "stream",
     "text": [
      "[nltk_data] Downloading package vader_lexicon to\n",
      "[nltk_data]     /Users/hims/nltk_data...\n",
      "[nltk_data]   Package vader_lexicon is already up-to-date!\n"
     ]
    }
   ],
   "source": [
    "%run /Users/hims/sjsu/bigdata_tech-228/project/customer_segmentation/code/data_prep/data_preperation.ipynb\n"
   ]
  },
  {
   "cell_type": "code",
   "execution_count": null,
   "id": "47612b61e6924ef0",
   "metadata": {
    "ExecuteTime": {
     "end_time": "2023-11-11T14:01:50.330470Z",
     "start_time": "2023-11-11T14:01:50.320451Z"
    }
   },
   "outputs": [],
   "source": [
    "from pyspark.sql.functions import col, udf\n",
    "from pyspark.sql.functions import collect_list\n",
    "from pyspark.sql.functions import explode, create_map\n",
    "from pyspark.sql.functions import size\n",
    "from pyspark.sql.types import IntegerType, MapType\n",
    "from pyspark.sql.types import StringType"
   ]
  },
  {
   "cell_type": "code",
   "execution_count": null,
   "id": "9f53c37773805670",
   "metadata": {
    "ExecuteTime": {
     "end_time": "2023-11-11T14:01:53.907705Z",
     "start_time": "2023-11-11T14:01:53.898409Z"
    }
   },
   "outputs": [],
   "source": [
    "def cache_to_disk_for_test(user_df, review_df, friends_df):\n",
    "    user_df.write.mode(\"overwrite\").parquet(\"/tmp/test-1/cache/user_df\")\n",
    "    user_df = spark.read.parquet(\"/tmp/test-1/cache/user_df\")\n",
    "     \n",
    "    review_df.write.mode(\"overwrite\").parquet(\"/tmp/test-1/cache/review_df\")\n",
    "    review_df = spark.read.parquet(\"/tmp/test-1/cache/review_df\")\n",
    "    \n",
    "    friends_df.write.mode(\"overwrite\").parquet(\"/tmp/test-1/cache/friends_df\")\n",
    "    friends_df = spark.read.parquet(\"/tmp/test-1/cache/friends_df\")\n",
    "    \n",
    "    return user_df, joined_df, review_df, friends_df\n",
    "    \n",
    "    "
   ]
  },
  {
   "cell_type": "code",
   "execution_count": 3,
   "id": "b07643e784f32d14",
   "metadata": {
    "ExecuteTime": {
     "end_time": "2023-11-11T14:02:24.183823Z",
     "start_time": "2023-11-11T14:02:03.765525Z"
    }
   },
   "outputs": [
    {
     "name": "stderr",
     "output_type": "stream",
     "text": [
      "ERROR:root:Exception while sending command.\n",
      "Traceback (most recent call last):\n",
      "  File \"/opt/anaconda3/envs/python36/lib/python3.6/site-packages/py4j/java_gateway.py\", line 1200, in send_command\n",
      "    answer = smart_decode(self.stream.readline()[:-1])\n",
      "  File \"/opt/anaconda3/envs/python36/lib/python3.6/socket.py\", line 586, in readinto\n",
      "    return self._sock.recv_into(b)\n",
      "ConnectionResetError: [Errno 54] Connection reset by peer\n",
      "\n",
      "During handling of the above exception, another exception occurred:\n",
      "\n",
      "Traceback (most recent call last):\n",
      "  File \"/opt/anaconda3/envs/python36/lib/python3.6/site-packages/py4j/java_gateway.py\", line 1033, in send_command\n",
      "    response = connection.send_command(command)\n",
      "  File \"/opt/anaconda3/envs/python36/lib/python3.6/site-packages/py4j/java_gateway.py\", line 1212, in send_command\n",
      "    \"Error while receiving\", e, proto.ERROR_ON_RECEIVE)\n",
      "py4j.protocol.Py4JNetworkError: Error while receiving\n",
      "ERROR:root:Exception while sending command.\n",
      "Traceback (most recent call last):\n",
      "  File \"<ipython-input-1-6b6cd4a61079>\", line 3, in process_business_data\n",
      "    businessDf = spark.read.parquet(f\"{baseOutputPath}/business\")\n",
      "  File \"/opt/anaconda3/envs/python36/lib/python3.6/site-packages/pyspark/sql/session.py\", line 755, in read\n",
      "    return DataFrameReader(self._wrapped)\n",
      "  File \"/opt/anaconda3/envs/python36/lib/python3.6/site-packages/pyspark/sql/readwriter.py\", line 53, in __init__\n",
      "    self._jreader = spark._ssql_ctx.read()\n",
      "  File \"/opt/anaconda3/envs/python36/lib/python3.6/site-packages/py4j/java_gateway.py\", line 1305, in __call__\n",
      "    answer, self.gateway_client, self.target_id, self.name)\n",
      "  File \"/opt/anaconda3/envs/python36/lib/python3.6/site-packages/pyspark/sql/utils.py\", line 111, in deco\n",
      "    return f(*a, **kw)\n",
      "  File \"/opt/anaconda3/envs/python36/lib/python3.6/site-packages/py4j/protocol.py\", line 336, in get_return_value\n",
      "    format(target_id, \".\", name))\n",
      "py4j.protocol.Py4JError: An error occurred while calling o28.read\n",
      "\n",
      "During handling of the above exception, another exception occurred:\n",
      "\n",
      "Traceback (most recent call last):\n",
      "  File \"/opt/anaconda3/envs/python36/lib/python3.6/site-packages/py4j/java_gateway.py\", line 1207, in send_command\n",
      "    raise Py4JNetworkError(\"Answer from Java side is empty\")\n",
      "py4j.protocol.Py4JNetworkError: Answer from Java side is empty\n",
      "\n",
      "During handling of the above exception, another exception occurred:\n",
      "\n",
      "Traceback (most recent call last):\n",
      "  File \"/opt/anaconda3/envs/python36/lib/python3.6/site-packages/py4j/java_gateway.py\", line 1033, in send_command\n",
      "    response = connection.send_command(command)\n",
      "  File \"/opt/anaconda3/envs/python36/lib/python3.6/site-packages/py4j/java_gateway.py\", line 1212, in send_command\n",
      "    \"Error while receiving\", e, proto.ERROR_ON_RECEIVE)\n",
      "py4j.protocol.Py4JNetworkError: Error while receiving\n"
     ]
    },
    {
     "ename": "Py4JError",
     "evalue": "An error occurred while calling o28.read",
     "output_type": "error",
     "traceback": [
      "\u001b[0;31m---------------------------------------------------------------------------\u001b[0m",
      "\u001b[0;31mPy4JError\u001b[0m                                 Traceback (most recent call last)",
      "\u001b[0;32m<ipython-input-1-6b6cd4a61079>\u001b[0m in \u001b[0;36mprocess_business_data\u001b[0;34m(spark)\u001b[0m\n\u001b[1;32m      2\u001b[0m     \u001b[0;32mtry\u001b[0m\u001b[0;34m:\u001b[0m\u001b[0;34m\u001b[0m\u001b[0;34m\u001b[0m\u001b[0m\n\u001b[0;32m----> 3\u001b[0;31m         \u001b[0mbusinessDf\u001b[0m \u001b[0;34m=\u001b[0m \u001b[0mspark\u001b[0m\u001b[0;34m.\u001b[0m\u001b[0mread\u001b[0m\u001b[0;34m.\u001b[0m\u001b[0mparquet\u001b[0m\u001b[0;34m(\u001b[0m\u001b[0;34mf\"{baseOutputPath}/business\"\u001b[0m\u001b[0;34m)\u001b[0m\u001b[0;34m\u001b[0m\u001b[0;34m\u001b[0m\u001b[0m\n\u001b[0m\u001b[1;32m      4\u001b[0m     \u001b[0;32mexcept\u001b[0m \u001b[0mException\u001b[0m \u001b[0;32mas\u001b[0m \u001b[0me\u001b[0m\u001b[0;34m:\u001b[0m\u001b[0;34m\u001b[0m\u001b[0;34m\u001b[0m\u001b[0m\n",
      "\u001b[0;32m/opt/anaconda3/envs/python36/lib/python3.6/site-packages/pyspark/sql/session.py\u001b[0m in \u001b[0;36mread\u001b[0;34m(self)\u001b[0m\n\u001b[1;32m    754\u001b[0m         \"\"\"\n\u001b[0;32m--> 755\u001b[0;31m         \u001b[0;32mreturn\u001b[0m \u001b[0mDataFrameReader\u001b[0m\u001b[0;34m(\u001b[0m\u001b[0mself\u001b[0m\u001b[0;34m.\u001b[0m\u001b[0m_wrapped\u001b[0m\u001b[0;34m)\u001b[0m\u001b[0;34m\u001b[0m\u001b[0;34m\u001b[0m\u001b[0m\n\u001b[0m\u001b[1;32m    756\u001b[0m \u001b[0;34m\u001b[0m\u001b[0m\n",
      "\u001b[0;32m/opt/anaconda3/envs/python36/lib/python3.6/site-packages/pyspark/sql/readwriter.py\u001b[0m in \u001b[0;36m__init__\u001b[0;34m(self, spark)\u001b[0m\n\u001b[1;32m     52\u001b[0m     \u001b[0;32mdef\u001b[0m \u001b[0m__init__\u001b[0m\u001b[0;34m(\u001b[0m\u001b[0mself\u001b[0m\u001b[0;34m,\u001b[0m \u001b[0mspark\u001b[0m\u001b[0;34m)\u001b[0m\u001b[0;34m:\u001b[0m\u001b[0;34m\u001b[0m\u001b[0;34m\u001b[0m\u001b[0m\n\u001b[0;32m---> 53\u001b[0;31m         \u001b[0mself\u001b[0m\u001b[0;34m.\u001b[0m\u001b[0m_jreader\u001b[0m \u001b[0;34m=\u001b[0m \u001b[0mspark\u001b[0m\u001b[0;34m.\u001b[0m\u001b[0m_ssql_ctx\u001b[0m\u001b[0;34m.\u001b[0m\u001b[0mread\u001b[0m\u001b[0;34m(\u001b[0m\u001b[0;34m)\u001b[0m\u001b[0;34m\u001b[0m\u001b[0;34m\u001b[0m\u001b[0m\n\u001b[0m\u001b[1;32m     54\u001b[0m         \u001b[0mself\u001b[0m\u001b[0;34m.\u001b[0m\u001b[0m_spark\u001b[0m \u001b[0;34m=\u001b[0m \u001b[0mspark\u001b[0m\u001b[0;34m\u001b[0m\u001b[0;34m\u001b[0m\u001b[0m\n",
      "\u001b[0;32m/opt/anaconda3/envs/python36/lib/python3.6/site-packages/py4j/java_gateway.py\u001b[0m in \u001b[0;36m__call__\u001b[0;34m(self, *args)\u001b[0m\n\u001b[1;32m   1304\u001b[0m         return_value = get_return_value(\n\u001b[0;32m-> 1305\u001b[0;31m             answer, self.gateway_client, self.target_id, self.name)\n\u001b[0m\u001b[1;32m   1306\u001b[0m \u001b[0;34m\u001b[0m\u001b[0m\n",
      "\u001b[0;32m/opt/anaconda3/envs/python36/lib/python3.6/site-packages/pyspark/sql/utils.py\u001b[0m in \u001b[0;36mdeco\u001b[0;34m(*a, **kw)\u001b[0m\n\u001b[1;32m    110\u001b[0m         \u001b[0;32mtry\u001b[0m\u001b[0;34m:\u001b[0m\u001b[0;34m\u001b[0m\u001b[0;34m\u001b[0m\u001b[0m\n\u001b[0;32m--> 111\u001b[0;31m             \u001b[0;32mreturn\u001b[0m \u001b[0mf\u001b[0m\u001b[0;34m(\u001b[0m\u001b[0;34m*\u001b[0m\u001b[0ma\u001b[0m\u001b[0;34m,\u001b[0m \u001b[0;34m**\u001b[0m\u001b[0mkw\u001b[0m\u001b[0;34m)\u001b[0m\u001b[0;34m\u001b[0m\u001b[0;34m\u001b[0m\u001b[0m\n\u001b[0m\u001b[1;32m    112\u001b[0m         \u001b[0;32mexcept\u001b[0m \u001b[0mpy4j\u001b[0m\u001b[0;34m.\u001b[0m\u001b[0mprotocol\u001b[0m\u001b[0;34m.\u001b[0m\u001b[0mPy4JJavaError\u001b[0m \u001b[0;32mas\u001b[0m \u001b[0me\u001b[0m\u001b[0;34m:\u001b[0m\u001b[0;34m\u001b[0m\u001b[0;34m\u001b[0m\u001b[0m\n",
      "\u001b[0;32m/opt/anaconda3/envs/python36/lib/python3.6/site-packages/py4j/protocol.py\u001b[0m in \u001b[0;36mget_return_value\u001b[0;34m(answer, gateway_client, target_id, name)\u001b[0m\n\u001b[1;32m    335\u001b[0m                 \u001b[0;34m\"An error occurred while calling {0}{1}{2}\"\u001b[0m\u001b[0;34m.\u001b[0m\u001b[0;34m\u001b[0m\u001b[0;34m\u001b[0m\u001b[0m\n\u001b[0;32m--> 336\u001b[0;31m                 format(target_id, \".\", name))\n\u001b[0m\u001b[1;32m    337\u001b[0m     \u001b[0;32melse\u001b[0m\u001b[0;34m:\u001b[0m\u001b[0;34m\u001b[0m\u001b[0;34m\u001b[0m\u001b[0m\n",
      "\u001b[0;31mPy4JError\u001b[0m: An error occurred while calling o28.read",
      "\nDuring handling of the above exception, another exception occurred:\n",
      "\u001b[0;31mPy4JError\u001b[0m                                 Traceback (most recent call last)",
      "\u001b[0;32m<ipython-input-3-3bfcb7ff3fc0>\u001b[0m in \u001b[0;36m<module>\u001b[0;34m\u001b[0m\n\u001b[0;32m----> 1\u001b[0;31m \u001b[0mbusiness_df\u001b[0m \u001b[0;34m=\u001b[0m \u001b[0mprocess_business_data\u001b[0m\u001b[0;34m(\u001b[0m\u001b[0mspark\u001b[0m\u001b[0;34m)\u001b[0m\u001b[0;34m.\u001b[0m\u001b[0mwithColumnRenamed\u001b[0m\u001b[0;34m(\u001b[0m\u001b[0;34m\"review_count\"\u001b[0m\u001b[0;34m,\u001b[0m \u001b[0;34m\"bus_review_count\"\u001b[0m\u001b[0;34m)\u001b[0m\u001b[0;34m.\u001b[0m\u001b[0mwithColumnRenamed\u001b[0m\u001b[0;34m(\u001b[0m\u001b[0;34m\"stars\"\u001b[0m\u001b[0;34m,\u001b[0m \u001b[0;34m\"bus_stars\"\u001b[0m\u001b[0;34m)\u001b[0m\u001b[0;34m.\u001b[0m\u001b[0mwithColumnRenamed\u001b[0m\u001b[0;34m(\u001b[0m\u001b[0;34m\"name\"\u001b[0m\u001b[0;34m,\u001b[0m \u001b[0;34m\"bus_name\"\u001b[0m\u001b[0;34m)\u001b[0m\u001b[0;34m.\u001b[0m\u001b[0mcache\u001b[0m\u001b[0;34m(\u001b[0m\u001b[0;34m)\u001b[0m\u001b[0;34m\u001b[0m\u001b[0;34m\u001b[0m\u001b[0m\n\u001b[0m\u001b[1;32m      2\u001b[0m \u001b[0;34m\u001b[0m\u001b[0m\n\u001b[1;32m      3\u001b[0m \u001b[0mcheckin_df\u001b[0m \u001b[0;34m=\u001b[0m \u001b[0mprocess_checkin_data\u001b[0m\u001b[0;34m(\u001b[0m\u001b[0mspark\u001b[0m\u001b[0;34m)\u001b[0m\u001b[0;34m\u001b[0m\u001b[0;34m\u001b[0m\u001b[0m\n\u001b[1;32m      4\u001b[0m \u001b[0mfull_review_df\u001b[0m \u001b[0;34m=\u001b[0m \u001b[0mprocess_review_data\u001b[0m\u001b[0;34m(\u001b[0m\u001b[0mspark\u001b[0m\u001b[0;34m)\u001b[0m\u001b[0;34m\u001b[0m\u001b[0;34m\u001b[0m\u001b[0m\n\u001b[1;32m      5\u001b[0m \u001b[0;34m\u001b[0m\u001b[0m\n",
      "\u001b[0;32m<ipython-input-1-6b6cd4a61079>\u001b[0m in \u001b[0;36mprocess_business_data\u001b[0;34m(spark)\u001b[0m\n\u001b[1;32m     21\u001b[0m         ])\n\u001b[1;32m     22\u001b[0m \u001b[0;34m\u001b[0m\u001b[0m\n\u001b[0;32m---> 23\u001b[0;31m         \u001b[0mbusinessDf\u001b[0m \u001b[0;34m=\u001b[0m \u001b[0mspark\u001b[0m\u001b[0;34m.\u001b[0m\u001b[0mread\u001b[0m\u001b[0;34m.\u001b[0m\u001b[0mjson\u001b[0m\u001b[0;34m(\u001b[0m\u001b[0;34mf'{baseInputPath}/yelp_academic_dataset_business.json'\u001b[0m\u001b[0;34m,\u001b[0m \u001b[0mschema\u001b[0m\u001b[0;34m)\u001b[0m\u001b[0;31m \u001b[0m\u001b[0;31m\\\u001b[0m\u001b[0;34m\u001b[0m\u001b[0;34m\u001b[0m\u001b[0m\n\u001b[0m\u001b[1;32m     24\u001b[0m         \u001b[0;34m.\u001b[0m\u001b[0mwithColumn\u001b[0m\u001b[0;34m(\u001b[0m\u001b[0;34m\"categories\"\u001b[0m\u001b[0;34m,\u001b[0m \u001b[0msplit\u001b[0m\u001b[0;34m(\u001b[0m\u001b[0mcol\u001b[0m\u001b[0;34m(\u001b[0m\u001b[0;34m\"categories\"\u001b[0m\u001b[0;34m)\u001b[0m\u001b[0;34m,\u001b[0m \u001b[0;34m\", \"\u001b[0m\u001b[0;34m)\u001b[0m\u001b[0;34m)\u001b[0m\u001b[0;34m\u001b[0m\u001b[0;34m\u001b[0m\u001b[0m\n\u001b[1;32m     25\u001b[0m         \u001b[0mbusinessDf\u001b[0m\u001b[0;34m.\u001b[0m\u001b[0mcoalesce\u001b[0m\u001b[0;34m(\u001b[0m\u001b[0;36m1\u001b[0m\u001b[0;34m)\u001b[0m\u001b[0;34m.\u001b[0m\u001b[0mwrite\u001b[0m\u001b[0;34m.\u001b[0m\u001b[0mmode\u001b[0m\u001b[0;34m(\u001b[0m\u001b[0;34m\"overwrite\"\u001b[0m\u001b[0;34m)\u001b[0m\u001b[0;34m.\u001b[0m\u001b[0mparquet\u001b[0m\u001b[0;34m(\u001b[0m\u001b[0;34mf\"{baseOutputPath}/business\"\u001b[0m\u001b[0;34m)\u001b[0m\u001b[0;34m\u001b[0m\u001b[0;34m\u001b[0m\u001b[0m\n",
      "\u001b[0;32m/opt/anaconda3/envs/python36/lib/python3.6/site-packages/pyspark/sql/session.py\u001b[0m in \u001b[0;36mread\u001b[0;34m(self)\u001b[0m\n\u001b[1;32m    753\u001b[0m         \u001b[0;34m:\u001b[0m\u001b[0;32mclass\u001b[0m\u001b[0;34m:\u001b[0m\u001b[0;31m`\u001b[0m\u001b[0mDataFrameReader\u001b[0m\u001b[0;31m`\u001b[0m\u001b[0;34m\u001b[0m\u001b[0;34m\u001b[0m\u001b[0m\n\u001b[1;32m    754\u001b[0m         \"\"\"\n\u001b[0;32m--> 755\u001b[0;31m         \u001b[0;32mreturn\u001b[0m \u001b[0mDataFrameReader\u001b[0m\u001b[0;34m(\u001b[0m\u001b[0mself\u001b[0m\u001b[0;34m.\u001b[0m\u001b[0m_wrapped\u001b[0m\u001b[0;34m)\u001b[0m\u001b[0;34m\u001b[0m\u001b[0;34m\u001b[0m\u001b[0m\n\u001b[0m\u001b[1;32m    756\u001b[0m \u001b[0;34m\u001b[0m\u001b[0m\n\u001b[1;32m    757\u001b[0m     \u001b[0;34m@\u001b[0m\u001b[0mproperty\u001b[0m\u001b[0;34m\u001b[0m\u001b[0;34m\u001b[0m\u001b[0m\n",
      "\u001b[0;32m/opt/anaconda3/envs/python36/lib/python3.6/site-packages/pyspark/sql/readwriter.py\u001b[0m in \u001b[0;36m__init__\u001b[0;34m(self, spark)\u001b[0m\n\u001b[1;32m     51\u001b[0m \u001b[0;34m\u001b[0m\u001b[0m\n\u001b[1;32m     52\u001b[0m     \u001b[0;32mdef\u001b[0m \u001b[0m__init__\u001b[0m\u001b[0;34m(\u001b[0m\u001b[0mself\u001b[0m\u001b[0;34m,\u001b[0m \u001b[0mspark\u001b[0m\u001b[0;34m)\u001b[0m\u001b[0;34m:\u001b[0m\u001b[0;34m\u001b[0m\u001b[0;34m\u001b[0m\u001b[0m\n\u001b[0;32m---> 53\u001b[0;31m         \u001b[0mself\u001b[0m\u001b[0;34m.\u001b[0m\u001b[0m_jreader\u001b[0m \u001b[0;34m=\u001b[0m \u001b[0mspark\u001b[0m\u001b[0;34m.\u001b[0m\u001b[0m_ssql_ctx\u001b[0m\u001b[0;34m.\u001b[0m\u001b[0mread\u001b[0m\u001b[0;34m(\u001b[0m\u001b[0;34m)\u001b[0m\u001b[0;34m\u001b[0m\u001b[0;34m\u001b[0m\u001b[0m\n\u001b[0m\u001b[1;32m     54\u001b[0m         \u001b[0mself\u001b[0m\u001b[0;34m.\u001b[0m\u001b[0m_spark\u001b[0m \u001b[0;34m=\u001b[0m \u001b[0mspark\u001b[0m\u001b[0;34m\u001b[0m\u001b[0;34m\u001b[0m\u001b[0m\n\u001b[1;32m     55\u001b[0m \u001b[0;34m\u001b[0m\u001b[0m\n",
      "\u001b[0;32m/opt/anaconda3/envs/python36/lib/python3.6/site-packages/py4j/java_gateway.py\u001b[0m in \u001b[0;36m__call__\u001b[0;34m(self, *args)\u001b[0m\n\u001b[1;32m   1303\u001b[0m         \u001b[0manswer\u001b[0m \u001b[0;34m=\u001b[0m \u001b[0mself\u001b[0m\u001b[0;34m.\u001b[0m\u001b[0mgateway_client\u001b[0m\u001b[0;34m.\u001b[0m\u001b[0msend_command\u001b[0m\u001b[0;34m(\u001b[0m\u001b[0mcommand\u001b[0m\u001b[0;34m)\u001b[0m\u001b[0;34m\u001b[0m\u001b[0;34m\u001b[0m\u001b[0m\n\u001b[1;32m   1304\u001b[0m         return_value = get_return_value(\n\u001b[0;32m-> 1305\u001b[0;31m             answer, self.gateway_client, self.target_id, self.name)\n\u001b[0m\u001b[1;32m   1306\u001b[0m \u001b[0;34m\u001b[0m\u001b[0m\n\u001b[1;32m   1307\u001b[0m         \u001b[0;32mfor\u001b[0m \u001b[0mtemp_arg\u001b[0m \u001b[0;32min\u001b[0m \u001b[0mtemp_args\u001b[0m\u001b[0;34m:\u001b[0m\u001b[0;34m\u001b[0m\u001b[0;34m\u001b[0m\u001b[0m\n",
      "\u001b[0;32m/opt/anaconda3/envs/python36/lib/python3.6/site-packages/pyspark/sql/utils.py\u001b[0m in \u001b[0;36mdeco\u001b[0;34m(*a, **kw)\u001b[0m\n\u001b[1;32m    109\u001b[0m     \u001b[0;32mdef\u001b[0m \u001b[0mdeco\u001b[0m\u001b[0;34m(\u001b[0m\u001b[0;34m*\u001b[0m\u001b[0ma\u001b[0m\u001b[0;34m,\u001b[0m \u001b[0;34m**\u001b[0m\u001b[0mkw\u001b[0m\u001b[0;34m)\u001b[0m\u001b[0;34m:\u001b[0m\u001b[0;34m\u001b[0m\u001b[0;34m\u001b[0m\u001b[0m\n\u001b[1;32m    110\u001b[0m         \u001b[0;32mtry\u001b[0m\u001b[0;34m:\u001b[0m\u001b[0;34m\u001b[0m\u001b[0;34m\u001b[0m\u001b[0m\n\u001b[0;32m--> 111\u001b[0;31m             \u001b[0;32mreturn\u001b[0m \u001b[0mf\u001b[0m\u001b[0;34m(\u001b[0m\u001b[0;34m*\u001b[0m\u001b[0ma\u001b[0m\u001b[0;34m,\u001b[0m \u001b[0;34m**\u001b[0m\u001b[0mkw\u001b[0m\u001b[0;34m)\u001b[0m\u001b[0;34m\u001b[0m\u001b[0;34m\u001b[0m\u001b[0m\n\u001b[0m\u001b[1;32m    112\u001b[0m         \u001b[0;32mexcept\u001b[0m \u001b[0mpy4j\u001b[0m\u001b[0;34m.\u001b[0m\u001b[0mprotocol\u001b[0m\u001b[0;34m.\u001b[0m\u001b[0mPy4JJavaError\u001b[0m \u001b[0;32mas\u001b[0m \u001b[0me\u001b[0m\u001b[0;34m:\u001b[0m\u001b[0;34m\u001b[0m\u001b[0;34m\u001b[0m\u001b[0m\n\u001b[1;32m    113\u001b[0m             \u001b[0mconverted\u001b[0m \u001b[0;34m=\u001b[0m \u001b[0mconvert_exception\u001b[0m\u001b[0;34m(\u001b[0m\u001b[0me\u001b[0m\u001b[0;34m.\u001b[0m\u001b[0mjava_exception\u001b[0m\u001b[0;34m)\u001b[0m\u001b[0;34m\u001b[0m\u001b[0;34m\u001b[0m\u001b[0m\n",
      "\u001b[0;32m/opt/anaconda3/envs/python36/lib/python3.6/site-packages/py4j/protocol.py\u001b[0m in \u001b[0;36mget_return_value\u001b[0;34m(answer, gateway_client, target_id, name)\u001b[0m\n\u001b[1;32m    334\u001b[0m             raise Py4JError(\n\u001b[1;32m    335\u001b[0m                 \u001b[0;34m\"An error occurred while calling {0}{1}{2}\"\u001b[0m\u001b[0;34m.\u001b[0m\u001b[0;34m\u001b[0m\u001b[0;34m\u001b[0m\u001b[0m\n\u001b[0;32m--> 336\u001b[0;31m                 format(target_id, \".\", name))\n\u001b[0m\u001b[1;32m    337\u001b[0m     \u001b[0;32melse\u001b[0m\u001b[0;34m:\u001b[0m\u001b[0;34m\u001b[0m\u001b[0;34m\u001b[0m\u001b[0m\n\u001b[1;32m    338\u001b[0m         \u001b[0mtype\u001b[0m \u001b[0;34m=\u001b[0m \u001b[0manswer\u001b[0m\u001b[0;34m[\u001b[0m\u001b[0;36m1\u001b[0m\u001b[0;34m]\u001b[0m\u001b[0;34m\u001b[0m\u001b[0;34m\u001b[0m\u001b[0m\n",
      "\u001b[0;31mPy4JError\u001b[0m: An error occurred while calling o28.read"
     ]
    }
   ],
   "source": [
    "business_df = process_business_data(spark).withColumnRenamed(\"review_count\", \"bus_review_count\").withColumnRenamed(\"stars\", \"bus_stars\").withColumnRenamed(\"name\", \"bus_name\").cache()\n",
    "\n",
    "checkin_df = process_checkin_data(spark)\n",
    "full_review_df = process_review_data(spark)\n",
    "\n",
    "selected_user_id = full_review_df.groupBy(\"user_id\").count().orderBy(col(\"count\").desc()).select(\"user_id\").sample(0.001)\n",
    "full_review_df.groupBy(\"user_id\").count().orderBy(col(\"count\").desc()).show()\n",
    "selected_user_id.write.mode(\"overwrite\").parquet(\"/tmp/test-1/cache/selected_user_id\")\n",
    "selected_user_id = spark.read.parquet(\"/tmp/test-1/cache/selected_user_id\")\n",
    "\n",
    "\n",
    "review_df = process_review_data(spark).repartition(40).select(\"user_id\", \"business_id\", \"sentiment\", \"date\", \"frequent_words\").join(selected_user_id, on = [\"user_id\"])\n",
    "review_df.write.mode(\"overwrite\").parquet(\"/tmp/test-1/cache/review_df\")\n",
    "review_df = spark.read.parquet(\"/tmp/test-1/cache/review_df\")\n",
    "\n",
    "\n",
    "friends_df = process_friends_data(spark).join(selected_user_id, on = [\"user_id\"])\n",
    "friends_df.write.mode(\"overwrite\").parquet(\"/tmp/test-1/cache/friends_df\")\n",
    "friends_df = spark.read.parquet(\"/tmp/test-1/cache/friends_df\")\n",
    "\n",
    "\n",
    "tip_df = process_tip_data(spark).join(selected_user_id, on = [\"user_id\"])\n",
    "user_df = process_user_data(spark).join(selected_user_id, on = [\"user_id\"]).withColumnRenamed(\"review_count\", \"user_review_count\").withColumnRenamed(\"useful\", \"user_useful\").withColumnRenamed(\"funny\", \"user_funny\").withColumnRenamed(\"cool\", \"user_cool\")\n",
    "user_df.write.mode(\"overwrite\").parquet(\"/tmp/test-1/cache/user_df\")\n",
    "user_df = spark.read.parquet(\"/tmp/test-1/cache/user_df\")\n",
    "\n",
    "\n",
    "review_df.createOrReplaceTempView(\"review\")\n",
    "\n",
    "review_df.count()\n",
    "# user_df, review_df, friends_df = cache_to_disk_for_test(user_df, review_df, friends_df)"
   ]
  },
  {
   "cell_type": "code",
   "execution_count": 21,
   "id": "3501f975302764fe",
   "metadata": {
    "ExecuteTime": {
     "end_time": "2023-11-11T13:00:53.826468Z",
     "start_time": "2023-11-11T13:00:53.820227Z"
    }
   },
   "outputs": [
    {
     "name": "stdout",
     "output_type": "stream",
     "text": [
      "root\n",
      " |-- user_id: string (nullable = true)\n",
      " |-- average_stars: double (nullable = true)\n",
      " |-- compliment_cool: long (nullable = true)\n",
      " |-- compliment_cute: long (nullable = true)\n",
      " |-- compliment_funny: long (nullable = true)\n",
      " |-- compliment_hot: long (nullable = true)\n",
      " |-- compliment_list: long (nullable = true)\n",
      " |-- compliment_more: long (nullable = true)\n",
      " |-- compliment_note: long (nullable = true)\n",
      " |-- compliment_photos: long (nullable = true)\n",
      " |-- compliment_plain: long (nullable = true)\n",
      " |-- compliment_profile: long (nullable = true)\n",
      " |-- compliment_writer: long (nullable = true)\n",
      " |-- cool: long (nullable = true)\n",
      " |-- elite: array (nullable = true)\n",
      " |    |-- element: string (containsNull = true)\n",
      " |-- fans: long (nullable = true)\n",
      " |-- funny: long (nullable = true)\n",
      " |-- name: string (nullable = true)\n",
      " |-- review_count: long (nullable = true)\n",
      " |-- useful: long (nullable = true)\n",
      " |-- yelping_since: timestamp (nullable = true)\n"
     ]
    }
   ],
   "source": [
    "user_df.printSchema()\n"
   ]
  },
  {
   "cell_type": "code",
   "execution_count": 9,
   "id": "e71e5d1c09471624",
   "metadata": {
    "ExecuteTime": {
     "end_time": "2023-11-11T12:46:57.074395Z",
     "start_time": "2023-11-11T12:46:57.062724Z"
    }
   },
   "outputs": [],
   "source": [
    "def get_customer_agg_value(spark):\n",
    "    df = spark.sql(\"\"\"\n",
    "        select \n",
    "            user_id, \n",
    "            min(date) as first_seen, \n",
    "            max(date) as last_seen, \n",
    "            DATEDIFF(max(date), min(date)) as date_diff,\n",
    "            count(distinct business_id) as different_business_count,\n",
    "            avg(stars) as avg_rating,\n",
    "            min(stars) as min_stars,\n",
    "            max(stars) as max_stars\n",
    "        from review\n",
    "        group by user_id \n",
    "    \"\"\")\n",
    "    return df"
   ]
  },
  {
   "cell_type": "code",
   "execution_count": 23,
   "id": "c9e971db1915a78f",
   "metadata": {
    "ExecuteTime": {
     "end_time": "2023-11-11T13:13:09.239102Z",
     "start_time": "2023-11-11T13:13:09.231561Z"
    }
   },
   "outputs": [],
   "source": [
    "\n",
    "@udf(MapType(StringType(), IntegerType()))\n",
    "def merge_maps_array(map_array):\n",
    "    result = {}\n",
    "    for m in map_array:\n",
    "        for k, v in m.items():\n",
    "            result[k] = result.get(k, 0) + v\n",
    "    return result\n",
    "\n",
    "\n",
    "def get_customer_category_counts():\n",
    "    df = review_df.select(\"user_id\", \"business_id\") \\\n",
    "        .join(business_df.select(\"business_id\", \"categories\"), on = [\"business_id\"]) \\\n",
    "        .select(\"user_id\", explode(\"categories\").alias(\"category\")) \\\n",
    "        .groupBy(\"user_id\", \"category\").count() \\\n",
    "        .withColumn(\"category_map\", create_map(col(\"category\"), col(\"count\"))) \\\n",
    "        .groupBy(\"user_id\").agg(collect_list(col(\"category_map\")).alias(\"category_map\")) \\\n",
    "        .withColumn(\"category_map\", merge_maps_array(col(\"category_map\")))\n",
    "        \n",
    "    return df\n",
    "\n",
    "# get_customer_category_counts(joined_df).show(5, False)\n"
   ]
  },
  {
   "cell_type": "code",
   "execution_count": 11,
   "id": "804b021fdae59f8f",
   "metadata": {
    "ExecuteTime": {
     "end_time": "2023-11-11T12:46:58.089383Z",
     "start_time": "2023-11-11T12:46:58.071959Z"
    }
   },
   "outputs": [],
   "source": [
    "def get_friends_count():\n",
    "    df = friends_df.select(\"user_id\", size(col(\"friends\")).alias(\"friends_count\"))\n",
    "    return df"
   ]
  },
  {
   "cell_type": "code",
   "execution_count": 12,
   "id": "dc96fbbb60352276",
   "metadata": {
    "ExecuteTime": {
     "end_time": "2023-11-11T12:46:58.542681Z",
     "start_time": "2023-11-11T12:46:58.518110Z"
    }
   },
   "outputs": [],
   "source": [
    "def get_sentiments_count():\n",
    "    df = review_df.select(\"user_id\", \"sentiment\").groupBy(\"user_id\", \"sentiment\").count() \\\n",
    "        .withColumnRenamed(\"count\", \"sentiment_count\") \\\n",
    "        .withColumn(\"sentiment_map\", create_map(col(\"sentiment\"), col(\"sentiment_count\"))) \\\n",
    "        .groupBy(\"user_id\").agg(collect_list(col(\"sentiment_map\")).alias(\"sentiment_map\")) \\\n",
    "        .withColumn(\"sentiment_map\", merge_maps_array(col(\"sentiment_map\"))) \n",
    "    \n",
    "    return df\n",
    "\n",
    "# get_sentiments_count().show()"
   ]
  },
  {
   "cell_type": "code",
   "execution_count": 13,
   "id": "e23c871aee138655",
   "metadata": {
    "ExecuteTime": {
     "end_time": "2023-11-11T12:47:00.551457Z",
     "start_time": "2023-11-11T12:47:00.538048Z"
    }
   },
   "outputs": [],
   "source": [
    "def most_frequent_words():\n",
    "    return review_df.select(\"user_id\", explode(\"frequent_words\").alias(\"frequent_words\")) \\\n",
    "        .groupBy(\"user_id\", \"frequent_words\").count() \\\n",
    "        .withColumn(\"frequent_words_map\", create_map(col(\"frequent_words\"), col(\"count\"))) \\\n",
    "        .groupBy(\"user_id\").agg(collect_list(col(\"frequent_words_map\")).alias(\"frequent_words_map\")) \\\n",
    "        .withColumn(\"frequent_words_map\", merge_maps_array(col(\"frequent_words_map\")))\n",
    "\n",
    "#     return df"
   ]
  },
  {
   "cell_type": "code",
   "execution_count": 15,
   "id": "e36db9ab82b5d236",
   "metadata": {
    "ExecuteTime": {
     "end_time": "2023-11-11T12:36:21.465150Z",
     "start_time": "2023-11-11T12:36:21.421865Z"
    }
   },
   "outputs": [],
   "source": []
  },
  {
   "cell_type": "code",
   "execution_count": 15,
   "id": "8e38bdd0363a0fd6",
   "metadata": {
    "ExecuteTime": {
     "end_time": "2023-11-11T12:36:21.465464Z",
     "start_time": "2023-11-11T12:36:21.425281Z"
    }
   },
   "outputs": [],
   "source": []
  },
  {
   "cell_type": "markdown",
   "id": "26671a5f0185bc69",
   "metadata": {},
   "source": [
    "# Merging all the dataframes"
   ]
  },
  {
   "cell_type": "code",
   "execution_count": 8,
   "id": "91bacb7823ece00c",
   "metadata": {
    "ExecuteTime": {
     "end_time": "2023-11-11T12:46:52.159668Z",
     "start_time": "2023-11-11T12:46:52.149321Z"
    }
   },
   "outputs": [
    {
     "ename": "NameError",
     "evalue": "name 'get_customer_agg_value' is not defined",
     "output_type": "error",
     "traceback": [
      "\u001b[0;31m---------------------------------------------------------------------------\u001b[0m",
      "\u001b[0;31mNameError\u001b[0m                                 Traceback (most recent call last)",
      "\u001b[0;32m<ipython-input-8-d8bba1857b63>\u001b[0m in \u001b[0;36m<module>\u001b[0;34m\u001b[0m\n\u001b[0;32m----> 1\u001b[0;31m \u001b[0muser_agg_df\u001b[0m \u001b[0;34m=\u001b[0m \u001b[0mget_customer_agg_value\u001b[0m\u001b[0;34m(\u001b[0m\u001b[0mspark\u001b[0m\u001b[0;34m)\u001b[0m\u001b[0;34m\u001b[0m\u001b[0;34m\u001b[0m\u001b[0m\n\u001b[0m\u001b[1;32m      2\u001b[0m \u001b[0muser_category_df\u001b[0m \u001b[0;34m=\u001b[0m \u001b[0mget_customer_category_counts\u001b[0m\u001b[0;34m(\u001b[0m\u001b[0mjoined_df\u001b[0m\u001b[0;34m)\u001b[0m\u001b[0;34m\u001b[0m\u001b[0;34m\u001b[0m\u001b[0m\n\u001b[1;32m      3\u001b[0m \u001b[0mfriends_count_df\u001b[0m \u001b[0;34m=\u001b[0m \u001b[0mget_friends_count\u001b[0m\u001b[0;34m(\u001b[0m\u001b[0;34m)\u001b[0m\u001b[0;34m\u001b[0m\u001b[0;34m\u001b[0m\u001b[0m\n\u001b[1;32m      4\u001b[0m \u001b[0msentiment_count_df\u001b[0m \u001b[0;34m=\u001b[0m \u001b[0mget_sentiments_count\u001b[0m\u001b[0;34m(\u001b[0m\u001b[0;34m)\u001b[0m\u001b[0;34m\u001b[0m\u001b[0;34m\u001b[0m\u001b[0m\n\u001b[1;32m      5\u001b[0m \u001b[0mfrequent_words_df\u001b[0m \u001b[0;34m=\u001b[0m \u001b[0mmost_frequent_words\u001b[0m\u001b[0;34m(\u001b[0m\u001b[0;34m)\u001b[0m\u001b[0;34m\u001b[0m\u001b[0;34m\u001b[0m\u001b[0m\n",
      "\u001b[0;31mNameError\u001b[0m: name 'get_customer_agg_value' is not defined"
     ]
    }
   ],
   "source": [
    "\n",
    "user_agg_df = get_customer_agg_value(spark)\n",
    "user_category_df = get_customer_category_counts()\n",
    "friends_count_df = get_friends_count()\n",
    "sentiment_count_df = get_sentiments_count()\n",
    "frequent_words_df = most_frequent_words()\n",
    "\n",
    "complete_user_df = user_df \\\n",
    "                    .join(user_agg_df, on = [\"user_id\"]) \\\n",
    "                    .join(user_category_df, on = [\"user_id\"]) \\\n",
    "                    .join(friends_count_df, on = [\"user_id\"]) \\\n",
    "                    .join(sentiment_count_df, on = [\"user_id\"]).cache()\n",
    "\n",
    "complete_user_df.printSchema()\n",
    "complete_user_df.count()\n",
    "# save_spark_df_to_db(complete_user_df, \"users\")\n",
    "# complete_user_df.count()"
   ]
  },
  {
   "cell_type": "code",
   "execution_count": null,
   "id": "c9d770948f81b66",
   "metadata": {
    "ExecuteTime": {
     "start_time": "2023-11-11T12:12:19.742109Z"
    }
   },
   "outputs": [],
   "source": []
  },
  {
   "cell_type": "code",
   "execution_count": null,
   "id": "81ed60c0d478e519",
   "metadata": {},
   "outputs": [],
   "source": []
  }
 ],
 "metadata": {
  "kernelspec": {
   "display_name": "Python 3",
   "language": "python",
   "name": "python3"
  },
  "language_info": {
   "codemirror_mode": {
    "name": "ipython",
    "version": 3
   },
   "file_extension": ".py",
   "mimetype": "text/x-python",
   "name": "python",
   "nbconvert_exporter": "python",
   "pygments_lexer": "ipython3",
   "version": "3.6.13"
  },
  "varInspector": {
   "cols": {
    "lenName": 16,
    "lenType": 16,
    "lenVar": 40
   },
   "kernels_config": {
    "python": {
     "delete_cmd_postfix": "",
     "delete_cmd_prefix": "del ",
     "library": "var_list.py",
     "varRefreshCmd": "print(var_dic_list())"
    },
    "r": {
     "delete_cmd_postfix": ") ",
     "delete_cmd_prefix": "rm(",
     "library": "var_list.r",
     "varRefreshCmd": "cat(var_dic_list()) "
    }
   },
   "types_to_exclude": [
    "module",
    "function",
    "builtin_function_or_method",
    "instance",
    "_Feature"
   ],
   "window_display": false
  }
 },
 "nbformat": 4,
 "nbformat_minor": 5
}
