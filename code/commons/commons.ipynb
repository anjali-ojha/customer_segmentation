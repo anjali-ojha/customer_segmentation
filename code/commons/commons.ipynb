{
 "cells": [
  {
   "cell_type": "code",
   "execution_count": 1,
   "outputs": [
    {
     "name": "stdout",
     "output_type": "stream",
     "text": [
      "Loading configs.py\n"
     ]
    }
   ],
   "source": [
    "print(\"Loading configs.py\")\n",
    "\n",
    "baseInputPath = \"/Users/hims/Downloads/yelp_dataset/\"\n",
    "baseOutputPath = \"/tmp/test-1\"\n"
   ],
   "metadata": {
    "collapsed": false,
    "ExecuteTime": {
     "end_time": "2023-11-11T08:49:53.580436Z",
     "start_time": "2023-11-11T08:49:53.571818Z"
    }
   },
   "id": "8cbbee5564935805"
  },
  {
   "cell_type": "code",
   "execution_count": 2,
   "outputs": [],
   "source": [
    "from pyspark.sql import SparkSession\n",
    "import os\n",
    "\n",
    "import findspark\n",
    "findspark.init()\n",
    "\n",
    "# Create a Spark session\n",
    "# Specify the paths to the Snowflake connector JARs\n",
    "snowflake_jdbc_jar = \"/Users/hims/Downloads/snowflake-jdbc-3.14.0.jar\"\n",
    "spark_snowflake_jar = \"/Users/hims/Downloads/spark-snowflake_2.12-2.12.0-spark_3.4.jar\"\n",
    "\n",
    "\n",
    "# Create a Spark session with the Snowflake connector JARs\n",
    "os.environ['PYSPARK_SUBMIT_ARGS'] = \",\".join([\n",
    "    '--packages net.snowflake:spark-snowflake_2.12:2.12.0-spark_3.4',\n",
    "    'net.snowflake:snowflake-jdbc:3.14.0 pyspark-shell'])\n",
    "\n",
    "\n",
    "def get_spark():\n",
    "    return SparkSession.builder \\\n",
    "        .appName(\"Project App\") \\\n",
    "        .config(\"spark.executor.memory\", \"8000mb\") \\\n",
    "        .config('spark.sql.shuffle.partitions', 4) \\\n",
    "        .config('spark.default.parallelism', 4) \\\n",
    "        .config(\"spark.jars.packages\",\n",
    "                \"net.snowflake:spark-snowflake_2.12:2.12.0-spark_3.4,net.snowflake:snowflake-jdbc:3.14.0 pyspark-shell\") \\\n",
    "        .getOrCreate()\n",
    "\n"
   ],
   "metadata": {
    "collapsed": false,
    "ExecuteTime": {
     "end_time": "2023-11-11T08:49:58.980243Z",
     "start_time": "2023-11-11T08:49:58.148748Z"
    }
   },
   "id": "4af43f849984464e"
  },
  {
   "cell_type": "code",
   "execution_count": null,
   "outputs": [],
   "source": [],
   "metadata": {
    "collapsed": false
   },
   "id": "c74de94793932c2c"
  }
 ],
 "metadata": {
  "kernelspec": {
   "display_name": "Python 3",
   "language": "python",
   "name": "python3"
  },
  "language_info": {
   "codemirror_mode": {
    "name": "ipython",
    "version": 2
   },
   "file_extension": ".py",
   "mimetype": "text/x-python",
   "name": "python",
   "nbconvert_exporter": "python",
   "pygments_lexer": "ipython2",
   "version": "2.7.6"
  }
 },
 "nbformat": 4,
 "nbformat_minor": 5
}
