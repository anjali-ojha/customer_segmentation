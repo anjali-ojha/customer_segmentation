{
 "cells": [
  {
   "cell_type": "code",
   "execution_count": 1,
   "id": "8cbbee5564935805",
   "metadata": {
    "ExecuteTime": {
     "end_time": "2023-11-11T12:40:29.939380Z",
     "start_time": "2023-11-11T12:40:29.935031Z"
    }
   },
   "outputs": [
    {
     "name": "stdout",
     "output_type": "stream",
     "text": [
      "Loading configs.py\n"
     ]
    }
   ],
   "source": [
    "print(\"Loading configs.py\")\n",
    "\n",
    "baseInputPath = \"/Users/hims/Downloads/yelp_dataset/\"\n",
    "baseOutputPath = \"/tmp/test-1\"\n"
   ]
  },
  {
   "cell_type": "code",
   "execution_count": 1,
   "id": "4af43f849984464e",
   "metadata": {
    "ExecuteTime": {
     "end_time": "2023-11-11T13:16:36.252247Z",
     "start_time": "2023-11-11T13:16:35.492166Z"
    }
   },
   "outputs": [],
   "source": [
    "from pyspark.sql import SparkSession\n",
    "import os\n",
    "\n",
    "import findspark\n",
    "findspark.init()\n",
    "\n",
    "# Create a Spark session\n",
    "# Specify the paths to the Snowflake connector JARs\n",
    "snowflake_jdbc_jar = \"/Users/hims/Downloads/snowflake-jdbc-3.14.0.jar\"\n",
    "spark_snowflake_jar = \"/Users/hims/Downloads/spark-snowflake_2.12-2.12.0-spark_3.4.jar\"\n",
    "\n",
    "\n",
    "# Create a Spark session with the Snowflake connector JARs\n",
    "os.environ['PYSPARK_SUBMIT_ARGS'] = \",\".join([\n",
    "    '--packages net.snowflake:spark-snowflake_2.12:2.12.0-spark_3.4',\n",
    "    'net.snowflake:snowflake-jdbc:3.14.0 pyspark-shell'])\n",
    "\n",
    "\n",
    "def get_spark():\n",
    "    return SparkSession.builder \\\n",
    "        .appName(\"Project App\") \\\n",
    "        .config(\"spark.driver.memory\", \"8gb\") \\\n",
    "        .config(\"spark.jars.packages\",\n",
    "                \"net.snowflake:spark-snowflake_2.12:2.12.0-spark_3.4,net.snowflake:snowflake-jdbc:3.14.0 pyspark-shell\") \\\n",
    "        .getOrCreate()\n",
    "\n",
    "# .master('local[*]') \\\n",
    "#     .config(\"spark.sql.shuffle.partitions\", \"64\") \\\n",
    "\n",
    "# .config(\"spark.driver.memory\", \"1gb\") \\\n",
    "#     .config(\"spark.executor.memory\", \"8000mb\")\n"
   ]
  },
  {
   "cell_type": "code",
   "execution_count": null,
   "id": "c74de94793932c2c",
   "metadata": {},
   "outputs": [],
   "source": [
    "spark = get_spark()\n",
    "spark"
   ]
  }
 ],
 "metadata": {
  "kernelspec": {
   "display_name": "Python 3",
   "language": "python",
   "name": "python3"
  },
  "language_info": {
   "codemirror_mode": {
    "name": "ipython",
    "version": 3
   },
   "file_extension": ".py",
   "mimetype": "text/x-python",
   "name": "python",
   "nbconvert_exporter": "python",
   "pygments_lexer": "ipython3",
   "version": "3.6.13"
  },
  "varInspector": {
   "cols": {
    "lenName": 16,
    "lenType": 16,
    "lenVar": 40
   },
   "kernels_config": {
    "python": {
     "delete_cmd_postfix": "",
     "delete_cmd_prefix": "del ",
     "library": "var_list.py",
     "varRefreshCmd": "print(var_dic_list())"
    },
    "r": {
     "delete_cmd_postfix": ") ",
     "delete_cmd_prefix": "rm(",
     "library": "var_list.r",
     "varRefreshCmd": "cat(var_dic_list()) "
    }
   },
   "types_to_exclude": [
    "module",
    "function",
    "builtin_function_or_method",
    "instance",
    "_Feature"
   ],
   "window_display": false
  }
 },
 "nbformat": 4,
 "nbformat_minor": 5
}
